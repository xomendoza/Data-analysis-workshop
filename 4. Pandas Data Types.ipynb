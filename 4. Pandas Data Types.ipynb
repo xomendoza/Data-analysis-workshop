{
 "cells": [
  {
   "cell_type": "markdown",
   "id": "edc0d586",
   "metadata": {},
   "source": [
    "## Introducing pandas dtypes"
   ]
  },
  {
   "cell_type": "code",
   "execution_count": 111,
   "id": "9cc30fd3",
   "metadata": {},
   "outputs": [],
   "source": [
    "import pandas as pd\n",
    "import numpy as np"
   ]
  },
  {
   "cell_type": "code",
   "execution_count": 112,
   "id": "8eb99bb9",
   "metadata": {},
   "outputs": [],
   "source": [
    "# Defining column names and values\n",
    "\n",
    "column_names = [\"Customer ID\", \"Customer Name\",\\\n",
    "               \"2018 Revenue\", \"2019 Revenue\",\\\n",
    "               \"Growth\", \"Start Year\", \"Start Month\",\\\n",
    "               \"Start Day\", \"New Customer\"]\n",
    "\n",
    "row1 = list([1001.0, 'Pandas Banking',\\\n",
    "            '€235000', '€248000',\\\n",
    "            '5.5%', 2013, 3, 10, 0])\n",
    "\n",
    "row2 = list([1002.0, 'Pandas Grocery',\\\n",
    "            '€196000', '€205000',\n",
    "             '4.5%', 2016, 4, 30, 0])\n",
    "\n",
    "row3 = list([1003.0, 'Pandas Telecom',\\\n",
    "            '€167000', '€1930000', '15.5%',\\\n",
    "            2010, 11, 24, 0])\n",
    "\n",
    "row4 = list([1004.0, 'Pandas Transport',\\\n",
    "            '€79000', '€90000', '13.9%',\\\n",
    "            2018, 1, 15, 1])\n",
    "\n",
    "row5 = list([1005.0, 'Pandas Insurance',\\\n",
    "            '€241000', '264000', '9.5%',\\\n",
    "            2009, 6, 1, 0])\n"
   ]
  },
  {
   "cell_type": "code",
   "execution_count": 113,
   "id": "d1fc06cd",
   "metadata": {},
   "outputs": [
    {
     "data": {
      "text/html": [
       "<div>\n",
       "<style scoped>\n",
       "    .dataframe tbody tr th:only-of-type {\n",
       "        vertical-align: middle;\n",
       "    }\n",
       "\n",
       "    .dataframe tbody tr th {\n",
       "        vertical-align: top;\n",
       "    }\n",
       "\n",
       "    .dataframe thead th {\n",
       "        text-align: right;\n",
       "    }\n",
       "</style>\n",
       "<table border=\"1\" class=\"dataframe\">\n",
       "  <thead>\n",
       "    <tr style=\"text-align: right;\">\n",
       "      <th></th>\n",
       "      <th>Customer ID</th>\n",
       "      <th>Customer Name</th>\n",
       "      <th>2018 Revenue</th>\n",
       "      <th>2019 Revenue</th>\n",
       "      <th>Growth</th>\n",
       "      <th>Start Year</th>\n",
       "      <th>Start Month</th>\n",
       "      <th>Start Day</th>\n",
       "      <th>New Customer</th>\n",
       "    </tr>\n",
       "  </thead>\n",
       "  <tbody>\n",
       "    <tr>\n",
       "      <th>0</th>\n",
       "      <td>1001.0</td>\n",
       "      <td>Pandas Banking</td>\n",
       "      <td>€235000</td>\n",
       "      <td>€248000</td>\n",
       "      <td>5.5%</td>\n",
       "      <td>2013</td>\n",
       "      <td>3</td>\n",
       "      <td>10</td>\n",
       "      <td>0</td>\n",
       "    </tr>\n",
       "    <tr>\n",
       "      <th>1</th>\n",
       "      <td>1002.0</td>\n",
       "      <td>Pandas Grocery</td>\n",
       "      <td>€196000</td>\n",
       "      <td>€205000</td>\n",
       "      <td>4.5%</td>\n",
       "      <td>2016</td>\n",
       "      <td>4</td>\n",
       "      <td>30</td>\n",
       "      <td>0</td>\n",
       "    </tr>\n",
       "    <tr>\n",
       "      <th>2</th>\n",
       "      <td>1003.0</td>\n",
       "      <td>Pandas Telecom</td>\n",
       "      <td>€167000</td>\n",
       "      <td>€1930000</td>\n",
       "      <td>15.5%</td>\n",
       "      <td>2010</td>\n",
       "      <td>11</td>\n",
       "      <td>24</td>\n",
       "      <td>0</td>\n",
       "    </tr>\n",
       "    <tr>\n",
       "      <th>3</th>\n",
       "      <td>1004.0</td>\n",
       "      <td>Pandas Transport</td>\n",
       "      <td>€79000</td>\n",
       "      <td>€90000</td>\n",
       "      <td>13.9%</td>\n",
       "      <td>2018</td>\n",
       "      <td>1</td>\n",
       "      <td>15</td>\n",
       "      <td>1</td>\n",
       "    </tr>\n",
       "    <tr>\n",
       "      <th>4</th>\n",
       "      <td>1005.0</td>\n",
       "      <td>Pandas Insurance</td>\n",
       "      <td>€241000</td>\n",
       "      <td>264000</td>\n",
       "      <td>9.5%</td>\n",
       "      <td>2009</td>\n",
       "      <td>6</td>\n",
       "      <td>1</td>\n",
       "      <td>0</td>\n",
       "    </tr>\n",
       "  </tbody>\n",
       "</table>\n",
       "</div>"
      ],
      "text/plain": [
       "   Customer ID     Customer Name 2018 Revenue 2019 Revenue Growth  Start Year  \\\n",
       "0       1001.0    Pandas Banking      €235000      €248000   5.5%        2013   \n",
       "1       1002.0    Pandas Grocery      €196000      €205000   4.5%        2016   \n",
       "2       1003.0    Pandas Telecom      €167000     €1930000  15.5%        2010   \n",
       "3       1004.0  Pandas Transport       €79000       €90000  13.9%        2018   \n",
       "4       1005.0  Pandas Insurance      €241000       264000   9.5%        2009   \n",
       "\n",
       "   Start Month  Start Day  New Customer  \n",
       "0            3         10             0  \n",
       "1            4         30             0  \n",
       "2           11         24             0  \n",
       "3            1         15             1  \n",
       "4            6          1             0  "
      ]
     },
     "execution_count": 113,
     "metadata": {},
     "output_type": "execute_result"
    }
   ],
   "source": [
    "# Creating dataframes\n",
    "\n",
    "data_frame = pd.DataFrame(data=[row1, row2, row3, row4, row5],\\\n",
    "                         columns= column_names)\n",
    "\n",
    "data_frame"
   ]
  },
  {
   "cell_type": "code",
   "execution_count": 114,
   "id": "55c970a7",
   "metadata": {},
   "outputs": [
    {
     "data": {
      "text/plain": [
       "0     €235000€248000\n",
       "1     €196000€205000\n",
       "2    €167000€1930000\n",
       "3       €79000€90000\n",
       "4      €241000264000\n",
       "dtype: object"
      ]
     },
     "execution_count": 114,
     "metadata": {},
     "output_type": "execute_result"
    }
   ],
   "source": [
    "# Adding values for 2018 and 2019 revenues\n",
    "\n",
    "data_frame['2018 Revenue'] + data_frame['2019 Revenue']"
   ]
  },
  {
   "cell_type": "code",
   "execution_count": 115,
   "id": "4e7b909d",
   "metadata": {},
   "outputs": [
    {
     "data": {
      "text/plain": [
       "Customer ID      float64\n",
       "Customer Name     object\n",
       "2018 Revenue      object\n",
       "2019 Revenue      object\n",
       "Growth            object\n",
       "Start Year         int64\n",
       "Start Month        int64\n",
       "Start Day          int64\n",
       "New Customer       int64\n",
       "dtype: object"
      ]
     },
     "execution_count": 115,
     "metadata": {},
     "output_type": "execute_result"
    }
   ],
   "source": [
    "# Checking the data types\n",
    "\n",
    "data_frame.dtypes"
   ]
  },
  {
   "cell_type": "code",
   "execution_count": 116,
   "id": "e42b3a34",
   "metadata": {},
   "outputs": [
    {
     "name": "stdout",
     "output_type": "stream",
     "text": [
      "<class 'pandas.core.frame.DataFrame'>\n",
      "RangeIndex: 5 entries, 0 to 4\n",
      "Data columns (total 9 columns):\n",
      " #   Column         Non-Null Count  Dtype  \n",
      "---  ------         --------------  -----  \n",
      " 0   Customer ID    5 non-null      float64\n",
      " 1   Customer Name  5 non-null      object \n",
      " 2   2018 Revenue   5 non-null      object \n",
      " 3   2019 Revenue   5 non-null      object \n",
      " 4   Growth         5 non-null      object \n",
      " 5   Start Year     5 non-null      int64  \n",
      " 6   Start Month    5 non-null      int64  \n",
      " 7   Start Day      5 non-null      int64  \n",
      " 8   New Customer   5 non-null      int64  \n",
      "dtypes: float64(1), int64(4), object(4)\n",
      "memory usage: 488.0+ bytes\n"
     ]
    }
   ],
   "source": [
    "# Getting details of the data types\n",
    "\n",
    "data_frame.info()"
   ]
  },
  {
   "cell_type": "code",
   "execution_count": 117,
   "id": "d8b8511c",
   "metadata": {},
   "outputs": [
    {
     "data": {
      "text/plain": [
       "0    1001\n",
       "1    1002\n",
       "2    1003\n",
       "3    1004\n",
       "4    1005\n",
       "Name: Customer ID, dtype: int32"
      ]
     },
     "execution_count": 117,
     "metadata": {},
     "output_type": "execute_result"
    }
   ],
   "source": [
    "# Converting from one type into another\n",
    "\n",
    "data_frame['Customer ID'] = data_frame['Customer ID'].astype('int')\n",
    "data_frame['Customer ID']"
   ]
  },
  {
   "cell_type": "code",
   "execution_count": 118,
   "id": "090e7fde",
   "metadata": {},
   "outputs": [
    {
     "ename": "ValueError",
     "evalue": "invalid literal for int() with base 10: '€235000'",
     "output_type": "error",
     "traceback": [
      "\u001b[1;31m---------------------------------------------------------------------------\u001b[0m",
      "\u001b[1;31mValueError\u001b[0m                                Traceback (most recent call last)",
      "\u001b[1;32m~\\AppData\\Local\\Temp/ipykernel_6468/3910193750.py\u001b[0m in \u001b[0;36m<module>\u001b[1;34m\u001b[0m\n\u001b[1;32m----> 1\u001b[1;33m \u001b[0mdata_frame\u001b[0m\u001b[1;33m[\u001b[0m\u001b[1;34m'2018 Revenue'\u001b[0m\u001b[1;33m]\u001b[0m \u001b[1;33m=\u001b[0m \u001b[0mdata_frame\u001b[0m\u001b[1;33m[\u001b[0m\u001b[1;34m'2018 Revenue'\u001b[0m\u001b[1;33m]\u001b[0m\u001b[1;33m.\u001b[0m\u001b[0mastype\u001b[0m\u001b[1;33m(\u001b[0m\u001b[1;34m'int'\u001b[0m\u001b[1;33m)\u001b[0m\u001b[1;33m\u001b[0m\u001b[1;33m\u001b[0m\u001b[0m\n\u001b[0m\u001b[0;32m      2\u001b[0m \u001b[0mdata_frame\u001b[0m\u001b[1;33m[\u001b[0m\u001b[1;34m'2018 Revenue'\u001b[0m\u001b[1;33m]\u001b[0m\u001b[1;33m\u001b[0m\u001b[1;33m\u001b[0m\u001b[0m\n",
      "\u001b[1;32m~\\anaconda3\\lib\\site-packages\\pandas\\core\\generic.py\u001b[0m in \u001b[0;36mastype\u001b[1;34m(self, dtype, copy, errors)\u001b[0m\n\u001b[0;32m   5813\u001b[0m         \u001b[1;32melse\u001b[0m\u001b[1;33m:\u001b[0m\u001b[1;33m\u001b[0m\u001b[1;33m\u001b[0m\u001b[0m\n\u001b[0;32m   5814\u001b[0m             \u001b[1;31m# else, only a single dtype is given\u001b[0m\u001b[1;33m\u001b[0m\u001b[1;33m\u001b[0m\u001b[0m\n\u001b[1;32m-> 5815\u001b[1;33m             \u001b[0mnew_data\u001b[0m \u001b[1;33m=\u001b[0m \u001b[0mself\u001b[0m\u001b[1;33m.\u001b[0m\u001b[0m_mgr\u001b[0m\u001b[1;33m.\u001b[0m\u001b[0mastype\u001b[0m\u001b[1;33m(\u001b[0m\u001b[0mdtype\u001b[0m\u001b[1;33m=\u001b[0m\u001b[0mdtype\u001b[0m\u001b[1;33m,\u001b[0m \u001b[0mcopy\u001b[0m\u001b[1;33m=\u001b[0m\u001b[0mcopy\u001b[0m\u001b[1;33m,\u001b[0m \u001b[0merrors\u001b[0m\u001b[1;33m=\u001b[0m\u001b[0merrors\u001b[0m\u001b[1;33m)\u001b[0m\u001b[1;33m\u001b[0m\u001b[1;33m\u001b[0m\u001b[0m\n\u001b[0m\u001b[0;32m   5816\u001b[0m             \u001b[1;32mreturn\u001b[0m \u001b[0mself\u001b[0m\u001b[1;33m.\u001b[0m\u001b[0m_constructor\u001b[0m\u001b[1;33m(\u001b[0m\u001b[0mnew_data\u001b[0m\u001b[1;33m)\u001b[0m\u001b[1;33m.\u001b[0m\u001b[0m__finalize__\u001b[0m\u001b[1;33m(\u001b[0m\u001b[0mself\u001b[0m\u001b[1;33m,\u001b[0m \u001b[0mmethod\u001b[0m\u001b[1;33m=\u001b[0m\u001b[1;34m\"astype\"\u001b[0m\u001b[1;33m)\u001b[0m\u001b[1;33m\u001b[0m\u001b[1;33m\u001b[0m\u001b[0m\n\u001b[0;32m   5817\u001b[0m \u001b[1;33m\u001b[0m\u001b[0m\n",
      "\u001b[1;32m~\\anaconda3\\lib\\site-packages\\pandas\\core\\internals\\managers.py\u001b[0m in \u001b[0;36mastype\u001b[1;34m(self, dtype, copy, errors)\u001b[0m\n\u001b[0;32m    416\u001b[0m \u001b[1;33m\u001b[0m\u001b[0m\n\u001b[0;32m    417\u001b[0m     \u001b[1;32mdef\u001b[0m \u001b[0mastype\u001b[0m\u001b[1;33m(\u001b[0m\u001b[0mself\u001b[0m\u001b[1;33m:\u001b[0m \u001b[0mT\u001b[0m\u001b[1;33m,\u001b[0m \u001b[0mdtype\u001b[0m\u001b[1;33m,\u001b[0m \u001b[0mcopy\u001b[0m\u001b[1;33m:\u001b[0m \u001b[0mbool\u001b[0m \u001b[1;33m=\u001b[0m \u001b[1;32mFalse\u001b[0m\u001b[1;33m,\u001b[0m \u001b[0merrors\u001b[0m\u001b[1;33m:\u001b[0m \u001b[0mstr\u001b[0m \u001b[1;33m=\u001b[0m \u001b[1;34m\"raise\"\u001b[0m\u001b[1;33m)\u001b[0m \u001b[1;33m->\u001b[0m \u001b[0mT\u001b[0m\u001b[1;33m:\u001b[0m\u001b[1;33m\u001b[0m\u001b[1;33m\u001b[0m\u001b[0m\n\u001b[1;32m--> 418\u001b[1;33m         \u001b[1;32mreturn\u001b[0m \u001b[0mself\u001b[0m\u001b[1;33m.\u001b[0m\u001b[0mapply\u001b[0m\u001b[1;33m(\u001b[0m\u001b[1;34m\"astype\"\u001b[0m\u001b[1;33m,\u001b[0m \u001b[0mdtype\u001b[0m\u001b[1;33m=\u001b[0m\u001b[0mdtype\u001b[0m\u001b[1;33m,\u001b[0m \u001b[0mcopy\u001b[0m\u001b[1;33m=\u001b[0m\u001b[0mcopy\u001b[0m\u001b[1;33m,\u001b[0m \u001b[0merrors\u001b[0m\u001b[1;33m=\u001b[0m\u001b[0merrors\u001b[0m\u001b[1;33m)\u001b[0m\u001b[1;33m\u001b[0m\u001b[1;33m\u001b[0m\u001b[0m\n\u001b[0m\u001b[0;32m    419\u001b[0m \u001b[1;33m\u001b[0m\u001b[0m\n\u001b[0;32m    420\u001b[0m     def convert(\n",
      "\u001b[1;32m~\\anaconda3\\lib\\site-packages\\pandas\\core\\internals\\managers.py\u001b[0m in \u001b[0;36mapply\u001b[1;34m(self, f, align_keys, ignore_failures, **kwargs)\u001b[0m\n\u001b[0;32m    325\u001b[0m                     \u001b[0mapplied\u001b[0m \u001b[1;33m=\u001b[0m \u001b[0mb\u001b[0m\u001b[1;33m.\u001b[0m\u001b[0mapply\u001b[0m\u001b[1;33m(\u001b[0m\u001b[0mf\u001b[0m\u001b[1;33m,\u001b[0m \u001b[1;33m**\u001b[0m\u001b[0mkwargs\u001b[0m\u001b[1;33m)\u001b[0m\u001b[1;33m\u001b[0m\u001b[1;33m\u001b[0m\u001b[0m\n\u001b[0;32m    326\u001b[0m                 \u001b[1;32melse\u001b[0m\u001b[1;33m:\u001b[0m\u001b[1;33m\u001b[0m\u001b[1;33m\u001b[0m\u001b[0m\n\u001b[1;32m--> 327\u001b[1;33m                     \u001b[0mapplied\u001b[0m \u001b[1;33m=\u001b[0m \u001b[0mgetattr\u001b[0m\u001b[1;33m(\u001b[0m\u001b[0mb\u001b[0m\u001b[1;33m,\u001b[0m \u001b[0mf\u001b[0m\u001b[1;33m)\u001b[0m\u001b[1;33m(\u001b[0m\u001b[1;33m**\u001b[0m\u001b[0mkwargs\u001b[0m\u001b[1;33m)\u001b[0m\u001b[1;33m\u001b[0m\u001b[1;33m\u001b[0m\u001b[0m\n\u001b[0m\u001b[0;32m    328\u001b[0m             \u001b[1;32mexcept\u001b[0m \u001b[1;33m(\u001b[0m\u001b[0mTypeError\u001b[0m\u001b[1;33m,\u001b[0m \u001b[0mNotImplementedError\u001b[0m\u001b[1;33m)\u001b[0m\u001b[1;33m:\u001b[0m\u001b[1;33m\u001b[0m\u001b[1;33m\u001b[0m\u001b[0m\n\u001b[0;32m    329\u001b[0m                 \u001b[1;32mif\u001b[0m \u001b[1;32mnot\u001b[0m \u001b[0mignore_failures\u001b[0m\u001b[1;33m:\u001b[0m\u001b[1;33m\u001b[0m\u001b[1;33m\u001b[0m\u001b[0m\n",
      "\u001b[1;32m~\\anaconda3\\lib\\site-packages\\pandas\\core\\internals\\blocks.py\u001b[0m in \u001b[0;36mastype\u001b[1;34m(self, dtype, copy, errors)\u001b[0m\n\u001b[0;32m    589\u001b[0m         \u001b[0mvalues\u001b[0m \u001b[1;33m=\u001b[0m \u001b[0mself\u001b[0m\u001b[1;33m.\u001b[0m\u001b[0mvalues\u001b[0m\u001b[1;33m\u001b[0m\u001b[1;33m\u001b[0m\u001b[0m\n\u001b[0;32m    590\u001b[0m \u001b[1;33m\u001b[0m\u001b[0m\n\u001b[1;32m--> 591\u001b[1;33m         \u001b[0mnew_values\u001b[0m \u001b[1;33m=\u001b[0m \u001b[0mastype_array_safe\u001b[0m\u001b[1;33m(\u001b[0m\u001b[0mvalues\u001b[0m\u001b[1;33m,\u001b[0m \u001b[0mdtype\u001b[0m\u001b[1;33m,\u001b[0m \u001b[0mcopy\u001b[0m\u001b[1;33m=\u001b[0m\u001b[0mcopy\u001b[0m\u001b[1;33m,\u001b[0m \u001b[0merrors\u001b[0m\u001b[1;33m=\u001b[0m\u001b[0merrors\u001b[0m\u001b[1;33m)\u001b[0m\u001b[1;33m\u001b[0m\u001b[1;33m\u001b[0m\u001b[0m\n\u001b[0m\u001b[0;32m    592\u001b[0m \u001b[1;33m\u001b[0m\u001b[0m\n\u001b[0;32m    593\u001b[0m         \u001b[0mnew_values\u001b[0m \u001b[1;33m=\u001b[0m \u001b[0mmaybe_coerce_values\u001b[0m\u001b[1;33m(\u001b[0m\u001b[0mnew_values\u001b[0m\u001b[1;33m)\u001b[0m\u001b[1;33m\u001b[0m\u001b[1;33m\u001b[0m\u001b[0m\n",
      "\u001b[1;32m~\\anaconda3\\lib\\site-packages\\pandas\\core\\dtypes\\cast.py\u001b[0m in \u001b[0;36mastype_array_safe\u001b[1;34m(values, dtype, copy, errors)\u001b[0m\n\u001b[0;32m   1307\u001b[0m \u001b[1;33m\u001b[0m\u001b[0m\n\u001b[0;32m   1308\u001b[0m     \u001b[1;32mtry\u001b[0m\u001b[1;33m:\u001b[0m\u001b[1;33m\u001b[0m\u001b[1;33m\u001b[0m\u001b[0m\n\u001b[1;32m-> 1309\u001b[1;33m         \u001b[0mnew_values\u001b[0m \u001b[1;33m=\u001b[0m \u001b[0mastype_array\u001b[0m\u001b[1;33m(\u001b[0m\u001b[0mvalues\u001b[0m\u001b[1;33m,\u001b[0m \u001b[0mdtype\u001b[0m\u001b[1;33m,\u001b[0m \u001b[0mcopy\u001b[0m\u001b[1;33m=\u001b[0m\u001b[0mcopy\u001b[0m\u001b[1;33m)\u001b[0m\u001b[1;33m\u001b[0m\u001b[1;33m\u001b[0m\u001b[0m\n\u001b[0m\u001b[0;32m   1310\u001b[0m     \u001b[1;32mexcept\u001b[0m \u001b[1;33m(\u001b[0m\u001b[0mValueError\u001b[0m\u001b[1;33m,\u001b[0m \u001b[0mTypeError\u001b[0m\u001b[1;33m)\u001b[0m\u001b[1;33m:\u001b[0m\u001b[1;33m\u001b[0m\u001b[1;33m\u001b[0m\u001b[0m\n\u001b[0;32m   1311\u001b[0m         \u001b[1;31m# e.g. astype_nansafe can fail on object-dtype of strings\u001b[0m\u001b[1;33m\u001b[0m\u001b[1;33m\u001b[0m\u001b[0m\n",
      "\u001b[1;32m~\\anaconda3\\lib\\site-packages\\pandas\\core\\dtypes\\cast.py\u001b[0m in \u001b[0;36mastype_array\u001b[1;34m(values, dtype, copy)\u001b[0m\n\u001b[0;32m   1255\u001b[0m \u001b[1;33m\u001b[0m\u001b[0m\n\u001b[0;32m   1256\u001b[0m     \u001b[1;32melse\u001b[0m\u001b[1;33m:\u001b[0m\u001b[1;33m\u001b[0m\u001b[1;33m\u001b[0m\u001b[0m\n\u001b[1;32m-> 1257\u001b[1;33m         \u001b[0mvalues\u001b[0m \u001b[1;33m=\u001b[0m \u001b[0mastype_nansafe\u001b[0m\u001b[1;33m(\u001b[0m\u001b[0mvalues\u001b[0m\u001b[1;33m,\u001b[0m \u001b[0mdtype\u001b[0m\u001b[1;33m,\u001b[0m \u001b[0mcopy\u001b[0m\u001b[1;33m=\u001b[0m\u001b[0mcopy\u001b[0m\u001b[1;33m)\u001b[0m\u001b[1;33m\u001b[0m\u001b[1;33m\u001b[0m\u001b[0m\n\u001b[0m\u001b[0;32m   1258\u001b[0m \u001b[1;33m\u001b[0m\u001b[0m\n\u001b[0;32m   1259\u001b[0m     \u001b[1;31m# in pandas we don't store numpy str dtypes, so convert to object\u001b[0m\u001b[1;33m\u001b[0m\u001b[1;33m\u001b[0m\u001b[0m\n",
      "\u001b[1;32m~\\anaconda3\\lib\\site-packages\\pandas\\core\\dtypes\\cast.py\u001b[0m in \u001b[0;36mastype_nansafe\u001b[1;34m(arr, dtype, copy, skipna)\u001b[0m\n\u001b[0;32m   1172\u001b[0m         \u001b[1;31m# work around NumPy brokenness, #1987\u001b[0m\u001b[1;33m\u001b[0m\u001b[1;33m\u001b[0m\u001b[0m\n\u001b[0;32m   1173\u001b[0m         \u001b[1;32mif\u001b[0m \u001b[0mnp\u001b[0m\u001b[1;33m.\u001b[0m\u001b[0missubdtype\u001b[0m\u001b[1;33m(\u001b[0m\u001b[0mdtype\u001b[0m\u001b[1;33m.\u001b[0m\u001b[0mtype\u001b[0m\u001b[1;33m,\u001b[0m \u001b[0mnp\u001b[0m\u001b[1;33m.\u001b[0m\u001b[0minteger\u001b[0m\u001b[1;33m)\u001b[0m\u001b[1;33m:\u001b[0m\u001b[1;33m\u001b[0m\u001b[1;33m\u001b[0m\u001b[0m\n\u001b[1;32m-> 1174\u001b[1;33m             \u001b[1;32mreturn\u001b[0m \u001b[0mlib\u001b[0m\u001b[1;33m.\u001b[0m\u001b[0mastype_intsafe\u001b[0m\u001b[1;33m(\u001b[0m\u001b[0marr\u001b[0m\u001b[1;33m,\u001b[0m \u001b[0mdtype\u001b[0m\u001b[1;33m)\u001b[0m\u001b[1;33m\u001b[0m\u001b[1;33m\u001b[0m\u001b[0m\n\u001b[0m\u001b[0;32m   1175\u001b[0m \u001b[1;33m\u001b[0m\u001b[0m\n\u001b[0;32m   1176\u001b[0m         \u001b[1;31m# if we have a datetime/timedelta array of objects\u001b[0m\u001b[1;33m\u001b[0m\u001b[1;33m\u001b[0m\u001b[0m\n",
      "\u001b[1;32m~\\anaconda3\\lib\\site-packages\\pandas\\_libs\\lib.pyx\u001b[0m in \u001b[0;36mpandas._libs.lib.astype_intsafe\u001b[1;34m()\u001b[0m\n",
      "\u001b[1;31mValueError\u001b[0m: invalid literal for int() with base 10: '€235000'"
     ]
    }
   ],
   "source": [
    "data_frame['2018 Revenue'] = data_frame['2018 Revenue'].astype('int')\n",
    "data_frame['2018 Revenue']"
   ]
  },
  {
   "cell_type": "code",
   "execution_count": 119,
   "id": "93c57b41",
   "metadata": {},
   "outputs": [],
   "source": [
    "# Revoming the € \n",
    "\n",
    "def remove_currency(column):\n",
    "    new_column = column.replace('€','')\n",
    "    return int(new_column)"
   ]
  },
  {
   "cell_type": "code",
   "execution_count": 120,
   "id": "71325ccc",
   "metadata": {},
   "outputs": [
    {
     "data": {
      "text/plain": [
       "0    235000\n",
       "1    196000\n",
       "2    167000\n",
       "3     79000\n",
       "4    241000\n",
       "Name: 2018 Revenue, dtype: int64"
      ]
     },
     "execution_count": 120,
     "metadata": {},
     "output_type": "execute_result"
    }
   ],
   "source": [
    "data_frame['2018 Revenue'] = \\\n",
    "data_frame['2018 Revenue'].apply(remove_currency)\n",
    "data_frame['2018 Revenue']"
   ]
  },
  {
   "cell_type": "code",
   "execution_count": 121,
   "id": "a54b1514",
   "metadata": {},
   "outputs": [
    {
     "data": {
      "text/plain": [
       "0     248000\n",
       "1     205000\n",
       "2    1930000\n",
       "3      90000\n",
       "4     264000\n",
       "Name: 2019 Revenue, dtype: int64"
      ]
     },
     "execution_count": 121,
     "metadata": {},
     "output_type": "execute_result"
    }
   ],
   "source": [
    "data_frame['2019 Revenue'] = \\\n",
    "data_frame['2019 Revenue'].apply(remove_currency)\n",
    "data_frame['2019 Revenue']"
   ]
  },
  {
   "cell_type": "code",
   "execution_count": 122,
   "id": "7c131bdc",
   "metadata": {},
   "outputs": [
    {
     "data": {
      "text/plain": [
       "0     5.5\n",
       "1     4.5\n",
       "2    15.5\n",
       "3    13.9\n",
       "4     9.5\n",
       "Name: Growth, dtype: object"
      ]
     },
     "execution_count": 122,
     "metadata": {},
     "output_type": "execute_result"
    }
   ],
   "source": [
    "def remove_percent(column):\n",
    "    new_column = column.replace('%','')\n",
    "    return new_column\n",
    "\n",
    "data_frame['Growth'] = \\\n",
    "data_frame['Growth'].apply(remove_percent)\n",
    "data_frame['Growth']"
   ]
  },
  {
   "cell_type": "code",
   "execution_count": 123,
   "id": "ac7554d0",
   "metadata": {},
   "outputs": [
    {
     "data": {
      "text/plain": [
       "0   2013-03-10\n",
       "1   2016-04-30\n",
       "2   2010-11-24\n",
       "3   2018-01-15\n",
       "4   2009-06-01\n",
       "Name: Starting Date, dtype: datetime64[ns]"
      ]
     },
     "execution_count": 123,
     "metadata": {},
     "output_type": "execute_result"
    }
   ],
   "source": [
    "# Renaming columns\n",
    "\n",
    "data_frame.rename(columns={'Start Year': 'year',\\\n",
    "                           'Start Month': 'month',\\\n",
    "                           'Start Day': 'day'},\\\n",
    "                 inplace=True)\n",
    "\n",
    "data_frame['Starting Date'] = \\\n",
    "pd.to_datetime(data_frame[['day', 'month', 'year']])\n",
    "data_frame['Starting Date'] \n"
   ]
  },
  {
   "cell_type": "code",
   "execution_count": 124,
   "id": "6168ba29",
   "metadata": {},
   "outputs": [
    {
     "data": {
      "text/plain": [
       "0    False\n",
       "1    False\n",
       "2    False\n",
       "3     True\n",
       "4    False\n",
       "Name: New Customer, dtype: bool"
      ]
     },
     "execution_count": 124,
     "metadata": {},
     "output_type": "execute_result"
    }
   ],
   "source": [
    "# Converting int into bool\n",
    "\n",
    "data_frame[\"New Customer\"] = data_frame['New Customer'].astype('bool')\n",
    "data_frame[\"New Customer\"]"
   ]
  },
  {
   "cell_type": "code",
   "execution_count": 125,
   "id": "822ba95d",
   "metadata": {},
   "outputs": [
    {
     "data": {
      "text/plain": [
       "0      Pandas Banking\n",
       "1      Pandas Grocery\n",
       "2      Pandas Telecom\n",
       "3    Pandas Transport\n",
       "4    Pandas Insurance\n",
       "Name: Customer Name, dtype: category\n",
       "Categories (5, object): ['Pandas Banking', 'Pandas Grocery', 'Pandas Insurance', 'Pandas Telecom', 'Pandas Transport']"
      ]
     },
     "execution_count": 125,
     "metadata": {},
     "output_type": "execute_result"
    }
   ],
   "source": [
    "data_frame[\"Customer Name\"] = \\\n",
    "data_frame[\"Customer Name\"].astype('category')\n",
    "data_frame[\"Customer Name\"]"
   ]
  },
  {
   "cell_type": "code",
   "execution_count": 126,
   "id": "04617405",
   "metadata": {},
   "outputs": [
    {
     "data": {
      "text/plain": [
       "Customer ID               int32\n",
       "Customer Name          category\n",
       "2018 Revenue              int64\n",
       "2019 Revenue              int64\n",
       "Growth                   object\n",
       "year                      int64\n",
       "month                     int64\n",
       "day                       int64\n",
       "New Customer               bool\n",
       "Starting Date    datetime64[ns]\n",
       "dtype: object"
      ]
     },
     "execution_count": 126,
     "metadata": {},
     "output_type": "execute_result"
    }
   ],
   "source": [
    "data_frame.dtypes"
   ]
  },
  {
   "cell_type": "code",
   "execution_count": 127,
   "id": "e9acd104",
   "metadata": {},
   "outputs": [
    {
     "data": {
      "text/plain": [
       "0     483000\n",
       "1     401000\n",
       "2    2097000\n",
       "3     169000\n",
       "4     505000\n",
       "dtype: int64"
      ]
     },
     "execution_count": 127,
     "metadata": {},
     "output_type": "execute_result"
    }
   ],
   "source": [
    "# Summing columns\n",
    "\n",
    "data_frame['2019 Revenue'] + data_frame['2018 Revenue']"
   ]
  },
  {
   "cell_type": "code",
   "execution_count": 128,
   "id": "7a5a582f",
   "metadata": {},
   "outputs": [
    {
     "data": {
      "text/plain": [
       "0   -2732 days\n",
       "1   -1585 days\n",
       "2   -3569 days\n",
       "3    -960 days\n",
       "4   -4110 days\n",
       "Name: Starting Date, dtype: timedelta64[ns]"
      ]
     },
     "execution_count": 128,
     "metadata": {},
     "output_type": "execute_result"
    }
   ],
   "source": [
    "# Finding out the number of days\n",
    "\n",
    "data_frame['Starting Date'] - pd.to_datetime('2020-09-01')\n"
   ]
  },
  {
   "cell_type": "markdown",
   "id": "ea71f6b3",
   "metadata": {},
   "source": [
    "#### Exercise 4.01 - underlying data types and conversion"
   ]
  },
  {
   "cell_type": "code",
   "execution_count": 129,
   "id": "acbc9776",
   "metadata": {},
   "outputs": [],
   "source": [
    "# Importing libraries\n",
    "import pandas as pd"
   ]
  },
  {
   "cell_type": "code",
   "execution_count": 130,
   "id": "0d689e02",
   "metadata": {},
   "outputs": [
    {
     "data": {
      "text/html": [
       "<div>\n",
       "<style scoped>\n",
       "    .dataframe tbody tr th:only-of-type {\n",
       "        vertical-align: middle;\n",
       "    }\n",
       "\n",
       "    .dataframe tbody tr th {\n",
       "        vertical-align: top;\n",
       "    }\n",
       "\n",
       "    .dataframe thead th {\n",
       "        text-align: right;\n",
       "    }\n",
       "</style>\n",
       "<table border=\"1\" class=\"dataframe\">\n",
       "  <thead>\n",
       "    <tr style=\"text-align: right;\">\n",
       "      <th></th>\n",
       "      <th>Receipt Id</th>\n",
       "      <th>Date of Purchase</th>\n",
       "      <th>Product Name</th>\n",
       "      <th>Product Weight</th>\n",
       "      <th>Total Price</th>\n",
       "      <th>Retail shop name</th>\n",
       "    </tr>\n",
       "  </thead>\n",
       "  <tbody>\n",
       "    <tr>\n",
       "      <th>0</th>\n",
       "      <td>10001</td>\n",
       "      <td>24/05/20</td>\n",
       "      <td>Wheat</td>\n",
       "      <td>4.8lb</td>\n",
       "      <td>€17</td>\n",
       "      <td>Fline Store</td>\n",
       "    </tr>\n",
       "    <tr>\n",
       "      <th>1</th>\n",
       "      <td>10002</td>\n",
       "      <td>05/05/20</td>\n",
       "      <td>Fruit Juice</td>\n",
       "      <td>3.1lb</td>\n",
       "      <td>€19</td>\n",
       "      <td>Dello Superstore</td>\n",
       "    </tr>\n",
       "    <tr>\n",
       "      <th>2</th>\n",
       "      <td>10003</td>\n",
       "      <td>27/04/20</td>\n",
       "      <td>Vegetables</td>\n",
       "      <td>1.2lb</td>\n",
       "      <td>€15</td>\n",
       "      <td>Javies Retail</td>\n",
       "    </tr>\n",
       "    <tr>\n",
       "      <th>3</th>\n",
       "      <td>10004</td>\n",
       "      <td>05/05/20</td>\n",
       "      <td>Oil</td>\n",
       "      <td>3.1lb</td>\n",
       "      <td>€17</td>\n",
       "      <td>Javies Retail</td>\n",
       "    </tr>\n",
       "    <tr>\n",
       "      <th>4</th>\n",
       "      <td>10005</td>\n",
       "      <td>27/04/20</td>\n",
       "      <td>Wheat</td>\n",
       "      <td>4.8lb</td>\n",
       "      <td>€13</td>\n",
       "      <td>Javies Retail</td>\n",
       "    </tr>\n",
       "    <tr>\n",
       "      <th>...</th>\n",
       "      <td>...</td>\n",
       "      <td>...</td>\n",
       "      <td>...</td>\n",
       "      <td>...</td>\n",
       "      <td>...</td>\n",
       "      <td>...</td>\n",
       "    </tr>\n",
       "    <tr>\n",
       "      <th>99995</th>\n",
       "      <td>109996</td>\n",
       "      <td>24/05/20</td>\n",
       "      <td>Oil</td>\n",
       "      <td>4.8lb</td>\n",
       "      <td>€25</td>\n",
       "      <td>Visco Retail</td>\n",
       "    </tr>\n",
       "    <tr>\n",
       "      <th>99996</th>\n",
       "      <td>109997</td>\n",
       "      <td>20/04/20</td>\n",
       "      <td>Rice</td>\n",
       "      <td>3.1lb</td>\n",
       "      <td>€12</td>\n",
       "      <td>Kelly Superstore</td>\n",
       "    </tr>\n",
       "    <tr>\n",
       "      <th>99997</th>\n",
       "      <td>109998</td>\n",
       "      <td>08/01/20</td>\n",
       "      <td>Fruit Juice</td>\n",
       "      <td>2.7lb</td>\n",
       "      <td>€24</td>\n",
       "      <td>Dello Superstore</td>\n",
       "    </tr>\n",
       "    <tr>\n",
       "      <th>99998</th>\n",
       "      <td>109999</td>\n",
       "      <td>05/05/20</td>\n",
       "      <td>Butter</td>\n",
       "      <td>3.1lb</td>\n",
       "      <td>€22</td>\n",
       "      <td>Dello Superstore</td>\n",
       "    </tr>\n",
       "    <tr>\n",
       "      <th>99999</th>\n",
       "      <td>110000</td>\n",
       "      <td>17/04/20</td>\n",
       "      <td>Bread</td>\n",
       "      <td>4.4lb</td>\n",
       "      <td>€27</td>\n",
       "      <td>Visco Retail</td>\n",
       "    </tr>\n",
       "  </tbody>\n",
       "</table>\n",
       "<p>100000 rows × 6 columns</p>\n",
       "</div>"
      ],
      "text/plain": [
       "       Receipt Id Date of Purchase Product Name Product Weight Total Price  \\\n",
       "0           10001         24/05/20        Wheat          4.8lb         €17   \n",
       "1           10002         05/05/20  Fruit Juice          3.1lb         €19   \n",
       "2           10003         27/04/20   Vegetables          1.2lb         €15   \n",
       "3           10004         05/05/20          Oil          3.1lb         €17   \n",
       "4           10005         27/04/20        Wheat          4.8lb         €13   \n",
       "...           ...              ...          ...            ...         ...   \n",
       "99995      109996         24/05/20          Oil          4.8lb         €25   \n",
       "99996      109997         20/04/20         Rice          3.1lb         €12   \n",
       "99997      109998         08/01/20  Fruit Juice          2.7lb         €24   \n",
       "99998      109999         05/05/20       Butter          3.1lb         €22   \n",
       "99999      110000         17/04/20        Bread          4.4lb         €27   \n",
       "\n",
       "       Retail shop name  \n",
       "0           Fline Store  \n",
       "1      Dello Superstore  \n",
       "2         Javies Retail  \n",
       "3         Javies Retail  \n",
       "4         Javies Retail  \n",
       "...                 ...  \n",
       "99995      Visco Retail  \n",
       "99996  Kelly Superstore  \n",
       "99997  Dello Superstore  \n",
       "99998  Dello Superstore  \n",
       "99999      Visco Retail  \n",
       "\n",
       "[100000 rows x 6 columns]"
      ]
     },
     "execution_count": 130,
     "metadata": {},
     "output_type": "execute_result"
    }
   ],
   "source": [
    "# Loading the file as a DataFrame\n",
    "\n",
    "data = pd.read_csv('c:retail_purchase.csv')\n",
    "data"
   ]
  },
  {
   "cell_type": "code",
   "execution_count": 131,
   "id": "ccdf37a7",
   "metadata": {},
   "outputs": [
    {
     "data": {
      "text/html": [
       "<div>\n",
       "<style scoped>\n",
       "    .dataframe tbody tr th:only-of-type {\n",
       "        vertical-align: middle;\n",
       "    }\n",
       "\n",
       "    .dataframe tbody tr th {\n",
       "        vertical-align: top;\n",
       "    }\n",
       "\n",
       "    .dataframe thead th {\n",
       "        text-align: right;\n",
       "    }\n",
       "</style>\n",
       "<table border=\"1\" class=\"dataframe\">\n",
       "  <thead>\n",
       "    <tr style=\"text-align: right;\">\n",
       "      <th></th>\n",
       "      <th>Receipt Id</th>\n",
       "      <th>Date of Purchase</th>\n",
       "      <th>Product Name</th>\n",
       "      <th>Product Weight</th>\n",
       "      <th>Total Price</th>\n",
       "      <th>Retail shop name</th>\n",
       "    </tr>\n",
       "  </thead>\n",
       "  <tbody>\n",
       "    <tr>\n",
       "      <th>99995</th>\n",
       "      <td>109996</td>\n",
       "      <td>24/05/20</td>\n",
       "      <td>Oil</td>\n",
       "      <td>4.8lb</td>\n",
       "      <td>€25</td>\n",
       "      <td>Visco Retail</td>\n",
       "    </tr>\n",
       "    <tr>\n",
       "      <th>99996</th>\n",
       "      <td>109997</td>\n",
       "      <td>20/04/20</td>\n",
       "      <td>Rice</td>\n",
       "      <td>3.1lb</td>\n",
       "      <td>€12</td>\n",
       "      <td>Kelly Superstore</td>\n",
       "    </tr>\n",
       "    <tr>\n",
       "      <th>99997</th>\n",
       "      <td>109998</td>\n",
       "      <td>08/01/20</td>\n",
       "      <td>Fruit Juice</td>\n",
       "      <td>2.7lb</td>\n",
       "      <td>€24</td>\n",
       "      <td>Dello Superstore</td>\n",
       "    </tr>\n",
       "    <tr>\n",
       "      <th>99998</th>\n",
       "      <td>109999</td>\n",
       "      <td>05/05/20</td>\n",
       "      <td>Butter</td>\n",
       "      <td>3.1lb</td>\n",
       "      <td>€22</td>\n",
       "      <td>Dello Superstore</td>\n",
       "    </tr>\n",
       "    <tr>\n",
       "      <th>99999</th>\n",
       "      <td>110000</td>\n",
       "      <td>17/04/20</td>\n",
       "      <td>Bread</td>\n",
       "      <td>4.4lb</td>\n",
       "      <td>€27</td>\n",
       "      <td>Visco Retail</td>\n",
       "    </tr>\n",
       "  </tbody>\n",
       "</table>\n",
       "</div>"
      ],
      "text/plain": [
       "       Receipt Id Date of Purchase Product Name Product Weight Total Price  \\\n",
       "99995      109996         24/05/20          Oil          4.8lb         €25   \n",
       "99996      109997         20/04/20         Rice          3.1lb         €12   \n",
       "99997      109998         08/01/20  Fruit Juice          2.7lb         €24   \n",
       "99998      109999         05/05/20       Butter          3.1lb         €22   \n",
       "99999      110000         17/04/20        Bread          4.4lb         €27   \n",
       "\n",
       "       Retail shop name  \n",
       "99995      Visco Retail  \n",
       "99996  Kelly Superstore  \n",
       "99997  Dello Superstore  \n",
       "99998  Dello Superstore  \n",
       "99999      Visco Retail  "
      ]
     },
     "execution_count": 131,
     "metadata": {},
     "output_type": "execute_result"
    }
   ],
   "source": [
    "# Displaying first five rows\n",
    "data.tail()"
   ]
  },
  {
   "cell_type": "code",
   "execution_count": 132,
   "id": "2474bcf1",
   "metadata": {},
   "outputs": [
    {
     "name": "stdout",
     "output_type": "stream",
     "text": [
      "<class 'pandas.core.frame.DataFrame'>\n",
      "RangeIndex: 100000 entries, 0 to 99999\n",
      "Data columns (total 6 columns):\n",
      " #   Column            Non-Null Count   Dtype \n",
      "---  ------            --------------   ----- \n",
      " 0   Receipt Id        100000 non-null  int64 \n",
      " 1   Date of Purchase  100000 non-null  object\n",
      " 2   Product Name      100000 non-null  object\n",
      " 3   Product Weight    100000 non-null  object\n",
      " 4   Total Price       100000 non-null  object\n",
      " 5   Retail shop name  100000 non-null  object\n",
      "dtypes: int64(1), object(5)\n",
      "memory usage: 4.6+ MB\n"
     ]
    }
   ],
   "source": [
    "# Displaying panda data types\n",
    "data.info()"
   ]
  },
  {
   "cell_type": "code",
   "execution_count": 133,
   "id": "c674255a",
   "metadata": {},
   "outputs": [
    {
     "data": {
      "text/plain": [
       "Receipt Id           int64\n",
       "Date of Purchase    object\n",
       "Product Name        object\n",
       "Product Weight      object\n",
       "Total Price         object\n",
       "Retail shop name    object\n",
       "dtype: object"
      ]
     },
     "execution_count": 133,
     "metadata": {},
     "output_type": "execute_result"
    }
   ],
   "source": [
    "data.dtypes"
   ]
  },
  {
   "cell_type": "code",
   "execution_count": 134,
   "id": "bcf49cb2",
   "metadata": {},
   "outputs": [
    {
     "data": {
      "text/plain": [
       "0       2020-05-24\n",
       "1       2020-05-05\n",
       "2       2020-04-27\n",
       "3       2020-05-05\n",
       "4       2020-04-27\n",
       "           ...    \n",
       "99995   2020-05-24\n",
       "99996   2020-04-20\n",
       "99997   2020-01-08\n",
       "99998   2020-05-05\n",
       "99999   2020-04-17\n",
       "Name: Date of Purchase, Length: 100000, dtype: datetime64[ns]"
      ]
     },
     "execution_count": 134,
     "metadata": {},
     "output_type": "execute_result"
    }
   ],
   "source": [
    "# Converting Date of Purchase into datetime\n",
    "\n",
    "data['Date of Purchase'] = pd.to_datetime(data['Date of Purchase'], format='%d/%m/%y')\n",
    "\n",
    "data['Date of Purchase']"
   ]
  },
  {
   "cell_type": "code",
   "execution_count": 135,
   "id": "f3fe0c84",
   "metadata": {},
   "outputs": [
    {
     "data": {
      "text/plain": [
       "0        17\n",
       "1        19\n",
       "2        15\n",
       "3        17\n",
       "4        13\n",
       "         ..\n",
       "99995    25\n",
       "99996    12\n",
       "99997    24\n",
       "99998    22\n",
       "99999    27\n",
       "Name: Total Price, Length: 100000, dtype: object"
      ]
     },
     "execution_count": 135,
     "metadata": {},
     "output_type": "execute_result"
    }
   ],
   "source": [
    "# Removing the € form Total Price\n",
    "\n",
    "def remove_euro(column):\n",
    "    new_column = column.replace('€','')\n",
    "    return new_column\n",
    "\n",
    "data['Total Price'] = data['Total Price'].apply(remove_euro)\n",
    "\n",
    "data['Total Price']"
   ]
  },
  {
   "cell_type": "code",
   "execution_count": 136,
   "id": "75dc7a56",
   "metadata": {},
   "outputs": [
    {
     "data": {
      "text/plain": [
       "0        17.0\n",
       "1        19.0\n",
       "2        15.0\n",
       "3        17.0\n",
       "4        13.0\n",
       "         ... \n",
       "99995    25.0\n",
       "99996    12.0\n",
       "99997    24.0\n",
       "99998    22.0\n",
       "99999    27.0\n",
       "Name: Total Price, Length: 100000, dtype: float64"
      ]
     },
     "execution_count": 136,
     "metadata": {},
     "output_type": "execute_result"
    }
   ],
   "source": [
    "# Converting Total Price into a float and then display it\n",
    "\n",
    "data['Total Price'] = data['Total Price'].astype('float')\n",
    "\n",
    "data['Total Price']"
   ]
  },
  {
   "cell_type": "code",
   "execution_count": 137,
   "id": "7443cee7",
   "metadata": {},
   "outputs": [
    {
     "data": {
      "text/plain": [
       "0        4.8\n",
       "1        3.1\n",
       "2        1.2\n",
       "3        3.1\n",
       "4        4.8\n",
       "        ... \n",
       "99995    4.8\n",
       "99996    3.1\n",
       "99997    2.7\n",
       "99998    3.1\n",
       "99999    4.4\n",
       "Name: Product Weight, Length: 100000, dtype: object"
      ]
     },
     "execution_count": 137,
     "metadata": {},
     "output_type": "execute_result"
    }
   ],
   "source": [
    "# Removing lb from Product Weight\n",
    "\n",
    "def remove_lb(column):\n",
    "    new_column = column.replace('lb','')\n",
    "    return new_column\n",
    "\n",
    "data['Product Weight'] = data['Product Weight'].apply(remove_lb)\n",
    "data['Product Weight']"
   ]
  },
  {
   "cell_type": "code",
   "execution_count": 138,
   "id": "3baa3adc",
   "metadata": {},
   "outputs": [
    {
     "data": {
      "text/plain": [
       "0        4.8\n",
       "1        3.1\n",
       "2        1.2\n",
       "3        3.1\n",
       "4        4.8\n",
       "        ... \n",
       "99995    4.8\n",
       "99996    3.1\n",
       "99997    2.7\n",
       "99998    3.1\n",
       "99999    4.4\n",
       "Name: Product Weight, Length: 100000, dtype: float64"
      ]
     },
     "execution_count": 138,
     "metadata": {},
     "output_type": "execute_result"
    }
   ],
   "source": [
    "# Converting lb into a float\n",
    "\n",
    "data['Product Weight'] = data['Product Weight'].astype('float')\n",
    "\n",
    "data['Product Weight']"
   ]
  },
  {
   "cell_type": "code",
   "execution_count": 139,
   "id": "98658043",
   "metadata": {},
   "outputs": [
    {
     "data": {
      "text/plain": [
       "array(['Wheat', 'Fruit Juice', 'Vegetables', 'Oil', 'Butter', 'Fruits',\n",
       "       'Cheese', 'Rice', 'Bread'], dtype=object)"
      ]
     },
     "execution_count": 139,
     "metadata": {},
     "output_type": "execute_result"
    }
   ],
   "source": [
    "# Using the unique function to find every unique value from Product Name\n",
    "\n",
    "data['Product Name'].unique()"
   ]
  },
  {
   "cell_type": "code",
   "execution_count": 140,
   "id": "774c4e3c",
   "metadata": {},
   "outputs": [
    {
     "data": {
      "text/plain": [
       "0              Wheat\n",
       "1        Fruit Juice\n",
       "2         Vegetables\n",
       "3                Oil\n",
       "4              Wheat\n",
       "            ...     \n",
       "99995            Oil\n",
       "99996           Rice\n",
       "99997    Fruit Juice\n",
       "99998         Butter\n",
       "99999          Bread\n",
       "Name: Product Name, Length: 100000, dtype: category\n",
       "Categories (9, object): ['Bread', 'Butter', 'Cheese', 'Fruit Juice', ..., 'Oil', 'Rice', 'Vegetables', 'Wheat']"
      ]
     },
     "execution_count": 140,
     "metadata": {},
     "output_type": "execute_result"
    }
   ],
   "source": [
    "# Convert Product Name into a category\n",
    "\n",
    "data['Product Name'] = data['Product Name'].astype('category')\n",
    "data['Product Name']"
   ]
  },
  {
   "cell_type": "code",
   "execution_count": 141,
   "id": "87451005",
   "metadata": {},
   "outputs": [
    {
     "data": {
      "text/plain": [
       "array(['Fline Store', 'Dello Superstore', 'Javies Retail',\n",
       "       'Oldi Superstore', 'Kanes Store', 'Kelly Superstore',\n",
       "       'Visco Retail', 'Rotero Retail'], dtype=object)"
      ]
     },
     "execution_count": 141,
     "metadata": {},
     "output_type": "execute_result"
    }
   ],
   "source": [
    "# Using the unique(function for Retail shop name)\n",
    "\n",
    "data['Retail shop name'].unique()"
   ]
  },
  {
   "cell_type": "code",
   "execution_count": 142,
   "id": "8af4fc47",
   "metadata": {},
   "outputs": [
    {
     "data": {
      "text/plain": [
       "0             Fline Store\n",
       "1        Dello Superstore\n",
       "2           Javies Retail\n",
       "3           Javies Retail\n",
       "4           Javies Retail\n",
       "               ...       \n",
       "99995        Visco Retail\n",
       "99996    Kelly Superstore\n",
       "99997    Dello Superstore\n",
       "99998    Dello Superstore\n",
       "99999        Visco Retail\n",
       "Name: Retail shop name, Length: 100000, dtype: category\n",
       "Categories (8, object): ['Dello Superstore', 'Fline Store', 'Javies Retail', 'Kanes Store', 'Kelly Superstore', 'Oldi Superstore', 'Rotero Retail', 'Visco Retail']"
      ]
     },
     "execution_count": 142,
     "metadata": {},
     "output_type": "execute_result"
    }
   ],
   "source": [
    "# Converting Retail shop name into a category\n",
    "\n",
    "data['Retail shop name'] = data['Retail shop name'].astype('category')\n",
    "data['Retail shop name']"
   ]
  },
  {
   "cell_type": "code",
   "execution_count": 143,
   "id": "7e886dd9",
   "metadata": {},
   "outputs": [
    {
     "name": "stdout",
     "output_type": "stream",
     "text": [
      "<class 'pandas.core.frame.DataFrame'>\n",
      "RangeIndex: 100000 entries, 0 to 99999\n",
      "Data columns (total 6 columns):\n",
      " #   Column            Non-Null Count   Dtype         \n",
      "---  ------            --------------   -----         \n",
      " 0   Receipt Id        100000 non-null  int64         \n",
      " 1   Date of Purchase  100000 non-null  datetime64[ns]\n",
      " 2   Product Name      100000 non-null  category      \n",
      " 3   Product Weight    100000 non-null  float64       \n",
      " 4   Total Price       100000 non-null  float64       \n",
      " 5   Retail shop name  100000 non-null  category      \n",
      "dtypes: category(2), datetime64[ns](1), float64(2), int64(1)\n",
      "memory usage: 3.2 MB\n"
     ]
    }
   ],
   "source": [
    "# Displaying data types after convertion\n",
    "\n",
    "data.info()"
   ]
  },
  {
   "cell_type": "markdown",
   "id": "6bd1bf58",
   "metadata": {},
   "source": [
    "## Missing data types"
   ]
  },
  {
   "cell_type": "code",
   "execution_count": 144,
   "id": "a93de685",
   "metadata": {
    "scrolled": true
   },
   "outputs": [
    {
     "data": {
      "text/html": [
       "<div>\n",
       "<style scoped>\n",
       "    .dataframe tbody tr th:only-of-type {\n",
       "        vertical-align: middle;\n",
       "    }\n",
       "\n",
       "    .dataframe tbody tr th {\n",
       "        vertical-align: top;\n",
       "    }\n",
       "\n",
       "    .dataframe thead th {\n",
       "        text-align: right;\n",
       "    }\n",
       "</style>\n",
       "<table border=\"1\" class=\"dataframe\">\n",
       "  <thead>\n",
       "    <tr style=\"text-align: right;\">\n",
       "      <th></th>\n",
       "      <th>Customer ID</th>\n",
       "      <th>Customer Name</th>\n",
       "      <th>2018 Revenue</th>\n",
       "      <th>2019 Revenue</th>\n",
       "      <th>Growth</th>\n",
       "      <th>New Customer</th>\n",
       "      <th>Starting Date</th>\n",
       "    </tr>\n",
       "  </thead>\n",
       "  <tbody>\n",
       "    <tr>\n",
       "      <th>0</th>\n",
       "      <td>NaN</td>\n",
       "      <td>Pandas Banking</td>\n",
       "      <td>235000.0</td>\n",
       "      <td>248000.0</td>\n",
       "      <td>5.5</td>\n",
       "      <td>False</td>\n",
       "      <td>2013-03-10</td>\n",
       "    </tr>\n",
       "    <tr>\n",
       "      <th>1</th>\n",
       "      <td>1002.0</td>\n",
       "      <td>Pandas Grocery</td>\n",
       "      <td>196000.0</td>\n",
       "      <td>205000.0</td>\n",
       "      <td>4.5</td>\n",
       "      <td>NaN</td>\n",
       "      <td>2016-04-30</td>\n",
       "    </tr>\n",
       "    <tr>\n",
       "      <th>2</th>\n",
       "      <td>1003.0</td>\n",
       "      <td>Pandas Telecom</td>\n",
       "      <td>NaN</td>\n",
       "      <td>1930000.0</td>\n",
       "      <td>15.5</td>\n",
       "      <td>False</td>\n",
       "      <td>NaT</td>\n",
       "    </tr>\n",
       "    <tr>\n",
       "      <th>3</th>\n",
       "      <td>1004.0</td>\n",
       "      <td>Pandas Transport</td>\n",
       "      <td>79000.0</td>\n",
       "      <td>NaN</td>\n",
       "      <td>None</td>\n",
       "      <td>True</td>\n",
       "      <td>2018-01-15</td>\n",
       "    </tr>\n",
       "    <tr>\n",
       "      <th>4</th>\n",
       "      <td>1005.0</td>\n",
       "      <td>NaN</td>\n",
       "      <td>241000.0</td>\n",
       "      <td>264000.0</td>\n",
       "      <td>9.5</td>\n",
       "      <td>False</td>\n",
       "      <td>2009-06-01</td>\n",
       "    </tr>\n",
       "  </tbody>\n",
       "</table>\n",
       "</div>"
      ],
      "text/plain": [
       "   Customer ID     Customer Name  2018 Revenue  2019 Revenue Growth  \\\n",
       "0          NaN    Pandas Banking      235000.0      248000.0    5.5   \n",
       "1       1002.0    Pandas Grocery      196000.0      205000.0    4.5   \n",
       "2       1003.0    Pandas Telecom           NaN     1930000.0   15.5   \n",
       "3       1004.0  Pandas Transport       79000.0           NaN   None   \n",
       "4       1005.0               NaN      241000.0      264000.0    9.5   \n",
       "\n",
       "  New Customer Starting Date  \n",
       "0        False    2013-03-10  \n",
       "1          NaN    2016-04-30  \n",
       "2        False           NaT  \n",
       "3         True    2018-01-15  \n",
       "4        False    2009-06-01  "
      ]
     },
     "execution_count": 144,
     "metadata": {},
     "output_type": "execute_result"
    }
   ],
   "source": [
    "data_frame.drop(['year', 'month', 'day'], axis=1, inplace=True)\n",
    "\n",
    "data_frame.iloc[0,0] = None\n",
    "data_frame.iloc[4,1] = None\n",
    "data_frame.iloc[2,2] = None\n",
    "data_frame.iloc[3,3] = None\n",
    "data_frame.iloc[3,4] = None\n",
    "data_frame.iloc[1,5] = None\n",
    "data_frame.iloc[2,6] = None\n",
    "\n",
    "data_frame"
   ]
  },
  {
   "cell_type": "code",
   "execution_count": 110,
   "id": "461c9863",
   "metadata": {
    "scrolled": true
   },
   "outputs": [
    {
     "name": "stdout",
     "output_type": "stream",
     "text": [
      "<class 'pandas.core.frame.DataFrame'>\n",
      "RangeIndex: 5 entries, 0 to 4\n",
      "Data columns (total 7 columns):\n",
      " #   Column         Non-Null Count  Dtype         \n",
      "---  ------         --------------  -----         \n",
      " 0   Customer ID    4 non-null      float64       \n",
      " 1   Customer Name  4 non-null      category      \n",
      " 2   2018 Revenue   4 non-null      float64       \n",
      " 3   2019 Revenue   4 non-null      float64       \n",
      " 4   Growth         4 non-null      object        \n",
      " 5   New Customer   4 non-null      object        \n",
      " 6   Starting Date  4 non-null      datetime64[ns]\n",
      "dtypes: category(1), datetime64[ns](1), float64(3), object(2)\n",
      "memory usage: 585.0+ bytes\n"
     ]
    }
   ],
   "source": [
    "data_frame.info()"
   ]
  },
  {
   "cell_type": "code",
   "execution_count": 145,
   "id": "70eb250e",
   "metadata": {},
   "outputs": [
    {
     "ename": "IntCastingNaNError",
     "evalue": "Cannot convert non-finite values (NA or inf) to integer",
     "output_type": "error",
     "traceback": [
      "\u001b[1;31m---------------------------------------------------------------------------\u001b[0m",
      "\u001b[1;31mIntCastingNaNError\u001b[0m                        Traceback (most recent call last)",
      "\u001b[1;32m~\\AppData\\Local\\Temp/ipykernel_6468/3385655706.py\u001b[0m in \u001b[0;36m<module>\u001b[1;34m\u001b[0m\n\u001b[0;32m      1\u001b[0m \u001b[1;31m# Converting nullablee data types into other data types\u001b[0m\u001b[1;33m\u001b[0m\u001b[1;33m\u001b[0m\u001b[0m\n\u001b[0;32m      2\u001b[0m \u001b[0mdata_frame\u001b[0m\u001b[1;33m[\u001b[0m\u001b[1;34m'Customer ID'\u001b[0m\u001b[1;33m]\u001b[0m \u001b[1;33m=\u001b[0m\u001b[0;31m\\\u001b[0m\u001b[1;33m\u001b[0m\u001b[1;33m\u001b[0m\u001b[0m\n\u001b[1;32m----> 3\u001b[1;33m \u001b[0mdata_frame\u001b[0m\u001b[1;33m[\u001b[0m\u001b[1;34m'Customer ID'\u001b[0m\u001b[1;33m]\u001b[0m\u001b[1;33m.\u001b[0m\u001b[0mastype\u001b[0m\u001b[1;33m(\u001b[0m\u001b[1;34m'int'\u001b[0m\u001b[1;33m)\u001b[0m\u001b[1;33m\u001b[0m\u001b[1;33m\u001b[0m\u001b[0m\n\u001b[0m\u001b[0;32m      4\u001b[0m \u001b[0mdata_frame\u001b[0m\u001b[1;33m[\u001b[0m\u001b[1;34m'Customer ID'\u001b[0m\u001b[1;33m]\u001b[0m\u001b[1;33m\u001b[0m\u001b[1;33m\u001b[0m\u001b[0m\n",
      "\u001b[1;32m~\\anaconda3\\lib\\site-packages\\pandas\\core\\generic.py\u001b[0m in \u001b[0;36mastype\u001b[1;34m(self, dtype, copy, errors)\u001b[0m\n\u001b[0;32m   5813\u001b[0m         \u001b[1;32melse\u001b[0m\u001b[1;33m:\u001b[0m\u001b[1;33m\u001b[0m\u001b[1;33m\u001b[0m\u001b[0m\n\u001b[0;32m   5814\u001b[0m             \u001b[1;31m# else, only a single dtype is given\u001b[0m\u001b[1;33m\u001b[0m\u001b[1;33m\u001b[0m\u001b[0m\n\u001b[1;32m-> 5815\u001b[1;33m             \u001b[0mnew_data\u001b[0m \u001b[1;33m=\u001b[0m \u001b[0mself\u001b[0m\u001b[1;33m.\u001b[0m\u001b[0m_mgr\u001b[0m\u001b[1;33m.\u001b[0m\u001b[0mastype\u001b[0m\u001b[1;33m(\u001b[0m\u001b[0mdtype\u001b[0m\u001b[1;33m=\u001b[0m\u001b[0mdtype\u001b[0m\u001b[1;33m,\u001b[0m \u001b[0mcopy\u001b[0m\u001b[1;33m=\u001b[0m\u001b[0mcopy\u001b[0m\u001b[1;33m,\u001b[0m \u001b[0merrors\u001b[0m\u001b[1;33m=\u001b[0m\u001b[0merrors\u001b[0m\u001b[1;33m)\u001b[0m\u001b[1;33m\u001b[0m\u001b[1;33m\u001b[0m\u001b[0m\n\u001b[0m\u001b[0;32m   5816\u001b[0m             \u001b[1;32mreturn\u001b[0m \u001b[0mself\u001b[0m\u001b[1;33m.\u001b[0m\u001b[0m_constructor\u001b[0m\u001b[1;33m(\u001b[0m\u001b[0mnew_data\u001b[0m\u001b[1;33m)\u001b[0m\u001b[1;33m.\u001b[0m\u001b[0m__finalize__\u001b[0m\u001b[1;33m(\u001b[0m\u001b[0mself\u001b[0m\u001b[1;33m,\u001b[0m \u001b[0mmethod\u001b[0m\u001b[1;33m=\u001b[0m\u001b[1;34m\"astype\"\u001b[0m\u001b[1;33m)\u001b[0m\u001b[1;33m\u001b[0m\u001b[1;33m\u001b[0m\u001b[0m\n\u001b[0;32m   5817\u001b[0m \u001b[1;33m\u001b[0m\u001b[0m\n",
      "\u001b[1;32m~\\anaconda3\\lib\\site-packages\\pandas\\core\\internals\\managers.py\u001b[0m in \u001b[0;36mastype\u001b[1;34m(self, dtype, copy, errors)\u001b[0m\n\u001b[0;32m    416\u001b[0m \u001b[1;33m\u001b[0m\u001b[0m\n\u001b[0;32m    417\u001b[0m     \u001b[1;32mdef\u001b[0m \u001b[0mastype\u001b[0m\u001b[1;33m(\u001b[0m\u001b[0mself\u001b[0m\u001b[1;33m:\u001b[0m \u001b[0mT\u001b[0m\u001b[1;33m,\u001b[0m \u001b[0mdtype\u001b[0m\u001b[1;33m,\u001b[0m \u001b[0mcopy\u001b[0m\u001b[1;33m:\u001b[0m \u001b[0mbool\u001b[0m \u001b[1;33m=\u001b[0m \u001b[1;32mFalse\u001b[0m\u001b[1;33m,\u001b[0m \u001b[0merrors\u001b[0m\u001b[1;33m:\u001b[0m \u001b[0mstr\u001b[0m \u001b[1;33m=\u001b[0m \u001b[1;34m\"raise\"\u001b[0m\u001b[1;33m)\u001b[0m \u001b[1;33m->\u001b[0m \u001b[0mT\u001b[0m\u001b[1;33m:\u001b[0m\u001b[1;33m\u001b[0m\u001b[1;33m\u001b[0m\u001b[0m\n\u001b[1;32m--> 418\u001b[1;33m         \u001b[1;32mreturn\u001b[0m \u001b[0mself\u001b[0m\u001b[1;33m.\u001b[0m\u001b[0mapply\u001b[0m\u001b[1;33m(\u001b[0m\u001b[1;34m\"astype\"\u001b[0m\u001b[1;33m,\u001b[0m \u001b[0mdtype\u001b[0m\u001b[1;33m=\u001b[0m\u001b[0mdtype\u001b[0m\u001b[1;33m,\u001b[0m \u001b[0mcopy\u001b[0m\u001b[1;33m=\u001b[0m\u001b[0mcopy\u001b[0m\u001b[1;33m,\u001b[0m \u001b[0merrors\u001b[0m\u001b[1;33m=\u001b[0m\u001b[0merrors\u001b[0m\u001b[1;33m)\u001b[0m\u001b[1;33m\u001b[0m\u001b[1;33m\u001b[0m\u001b[0m\n\u001b[0m\u001b[0;32m    419\u001b[0m \u001b[1;33m\u001b[0m\u001b[0m\n\u001b[0;32m    420\u001b[0m     def convert(\n",
      "\u001b[1;32m~\\anaconda3\\lib\\site-packages\\pandas\\core\\internals\\managers.py\u001b[0m in \u001b[0;36mapply\u001b[1;34m(self, f, align_keys, ignore_failures, **kwargs)\u001b[0m\n\u001b[0;32m    325\u001b[0m                     \u001b[0mapplied\u001b[0m \u001b[1;33m=\u001b[0m \u001b[0mb\u001b[0m\u001b[1;33m.\u001b[0m\u001b[0mapply\u001b[0m\u001b[1;33m(\u001b[0m\u001b[0mf\u001b[0m\u001b[1;33m,\u001b[0m \u001b[1;33m**\u001b[0m\u001b[0mkwargs\u001b[0m\u001b[1;33m)\u001b[0m\u001b[1;33m\u001b[0m\u001b[1;33m\u001b[0m\u001b[0m\n\u001b[0;32m    326\u001b[0m                 \u001b[1;32melse\u001b[0m\u001b[1;33m:\u001b[0m\u001b[1;33m\u001b[0m\u001b[1;33m\u001b[0m\u001b[0m\n\u001b[1;32m--> 327\u001b[1;33m                     \u001b[0mapplied\u001b[0m \u001b[1;33m=\u001b[0m \u001b[0mgetattr\u001b[0m\u001b[1;33m(\u001b[0m\u001b[0mb\u001b[0m\u001b[1;33m,\u001b[0m \u001b[0mf\u001b[0m\u001b[1;33m)\u001b[0m\u001b[1;33m(\u001b[0m\u001b[1;33m**\u001b[0m\u001b[0mkwargs\u001b[0m\u001b[1;33m)\u001b[0m\u001b[1;33m\u001b[0m\u001b[1;33m\u001b[0m\u001b[0m\n\u001b[0m\u001b[0;32m    328\u001b[0m             \u001b[1;32mexcept\u001b[0m \u001b[1;33m(\u001b[0m\u001b[0mTypeError\u001b[0m\u001b[1;33m,\u001b[0m \u001b[0mNotImplementedError\u001b[0m\u001b[1;33m)\u001b[0m\u001b[1;33m:\u001b[0m\u001b[1;33m\u001b[0m\u001b[1;33m\u001b[0m\u001b[0m\n\u001b[0;32m    329\u001b[0m                 \u001b[1;32mif\u001b[0m \u001b[1;32mnot\u001b[0m \u001b[0mignore_failures\u001b[0m\u001b[1;33m:\u001b[0m\u001b[1;33m\u001b[0m\u001b[1;33m\u001b[0m\u001b[0m\n",
      "\u001b[1;32m~\\anaconda3\\lib\\site-packages\\pandas\\core\\internals\\blocks.py\u001b[0m in \u001b[0;36mastype\u001b[1;34m(self, dtype, copy, errors)\u001b[0m\n\u001b[0;32m    589\u001b[0m         \u001b[0mvalues\u001b[0m \u001b[1;33m=\u001b[0m \u001b[0mself\u001b[0m\u001b[1;33m.\u001b[0m\u001b[0mvalues\u001b[0m\u001b[1;33m\u001b[0m\u001b[1;33m\u001b[0m\u001b[0m\n\u001b[0;32m    590\u001b[0m \u001b[1;33m\u001b[0m\u001b[0m\n\u001b[1;32m--> 591\u001b[1;33m         \u001b[0mnew_values\u001b[0m \u001b[1;33m=\u001b[0m \u001b[0mastype_array_safe\u001b[0m\u001b[1;33m(\u001b[0m\u001b[0mvalues\u001b[0m\u001b[1;33m,\u001b[0m \u001b[0mdtype\u001b[0m\u001b[1;33m,\u001b[0m \u001b[0mcopy\u001b[0m\u001b[1;33m=\u001b[0m\u001b[0mcopy\u001b[0m\u001b[1;33m,\u001b[0m \u001b[0merrors\u001b[0m\u001b[1;33m=\u001b[0m\u001b[0merrors\u001b[0m\u001b[1;33m)\u001b[0m\u001b[1;33m\u001b[0m\u001b[1;33m\u001b[0m\u001b[0m\n\u001b[0m\u001b[0;32m    592\u001b[0m \u001b[1;33m\u001b[0m\u001b[0m\n\u001b[0;32m    593\u001b[0m         \u001b[0mnew_values\u001b[0m \u001b[1;33m=\u001b[0m \u001b[0mmaybe_coerce_values\u001b[0m\u001b[1;33m(\u001b[0m\u001b[0mnew_values\u001b[0m\u001b[1;33m)\u001b[0m\u001b[1;33m\u001b[0m\u001b[1;33m\u001b[0m\u001b[0m\n",
      "\u001b[1;32m~\\anaconda3\\lib\\site-packages\\pandas\\core\\dtypes\\cast.py\u001b[0m in \u001b[0;36mastype_array_safe\u001b[1;34m(values, dtype, copy, errors)\u001b[0m\n\u001b[0;32m   1307\u001b[0m \u001b[1;33m\u001b[0m\u001b[0m\n\u001b[0;32m   1308\u001b[0m     \u001b[1;32mtry\u001b[0m\u001b[1;33m:\u001b[0m\u001b[1;33m\u001b[0m\u001b[1;33m\u001b[0m\u001b[0m\n\u001b[1;32m-> 1309\u001b[1;33m         \u001b[0mnew_values\u001b[0m \u001b[1;33m=\u001b[0m \u001b[0mastype_array\u001b[0m\u001b[1;33m(\u001b[0m\u001b[0mvalues\u001b[0m\u001b[1;33m,\u001b[0m \u001b[0mdtype\u001b[0m\u001b[1;33m,\u001b[0m \u001b[0mcopy\u001b[0m\u001b[1;33m=\u001b[0m\u001b[0mcopy\u001b[0m\u001b[1;33m)\u001b[0m\u001b[1;33m\u001b[0m\u001b[1;33m\u001b[0m\u001b[0m\n\u001b[0m\u001b[0;32m   1310\u001b[0m     \u001b[1;32mexcept\u001b[0m \u001b[1;33m(\u001b[0m\u001b[0mValueError\u001b[0m\u001b[1;33m,\u001b[0m \u001b[0mTypeError\u001b[0m\u001b[1;33m)\u001b[0m\u001b[1;33m:\u001b[0m\u001b[1;33m\u001b[0m\u001b[1;33m\u001b[0m\u001b[0m\n\u001b[0;32m   1311\u001b[0m         \u001b[1;31m# e.g. astype_nansafe can fail on object-dtype of strings\u001b[0m\u001b[1;33m\u001b[0m\u001b[1;33m\u001b[0m\u001b[0m\n",
      "\u001b[1;32m~\\anaconda3\\lib\\site-packages\\pandas\\core\\dtypes\\cast.py\u001b[0m in \u001b[0;36mastype_array\u001b[1;34m(values, dtype, copy)\u001b[0m\n\u001b[0;32m   1255\u001b[0m \u001b[1;33m\u001b[0m\u001b[0m\n\u001b[0;32m   1256\u001b[0m     \u001b[1;32melse\u001b[0m\u001b[1;33m:\u001b[0m\u001b[1;33m\u001b[0m\u001b[1;33m\u001b[0m\u001b[0m\n\u001b[1;32m-> 1257\u001b[1;33m         \u001b[0mvalues\u001b[0m \u001b[1;33m=\u001b[0m \u001b[0mastype_nansafe\u001b[0m\u001b[1;33m(\u001b[0m\u001b[0mvalues\u001b[0m\u001b[1;33m,\u001b[0m \u001b[0mdtype\u001b[0m\u001b[1;33m,\u001b[0m \u001b[0mcopy\u001b[0m\u001b[1;33m=\u001b[0m\u001b[0mcopy\u001b[0m\u001b[1;33m)\u001b[0m\u001b[1;33m\u001b[0m\u001b[1;33m\u001b[0m\u001b[0m\n\u001b[0m\u001b[0;32m   1258\u001b[0m \u001b[1;33m\u001b[0m\u001b[0m\n\u001b[0;32m   1259\u001b[0m     \u001b[1;31m# in pandas we don't store numpy str dtypes, so convert to object\u001b[0m\u001b[1;33m\u001b[0m\u001b[1;33m\u001b[0m\u001b[0m\n",
      "\u001b[1;32m~\\anaconda3\\lib\\site-packages\\pandas\\core\\dtypes\\cast.py\u001b[0m in \u001b[0;36mastype_nansafe\u001b[1;34m(arr, dtype, copy, skipna)\u001b[0m\n\u001b[0;32m   1166\u001b[0m \u001b[1;33m\u001b[0m\u001b[0m\n\u001b[0;32m   1167\u001b[0m     \u001b[1;32melif\u001b[0m \u001b[0mnp\u001b[0m\u001b[1;33m.\u001b[0m\u001b[0missubdtype\u001b[0m\u001b[1;33m(\u001b[0m\u001b[0marr\u001b[0m\u001b[1;33m.\u001b[0m\u001b[0mdtype\u001b[0m\u001b[1;33m,\u001b[0m \u001b[0mnp\u001b[0m\u001b[1;33m.\u001b[0m\u001b[0mfloating\u001b[0m\u001b[1;33m)\u001b[0m \u001b[1;32mand\u001b[0m \u001b[0mnp\u001b[0m\u001b[1;33m.\u001b[0m\u001b[0missubdtype\u001b[0m\u001b[1;33m(\u001b[0m\u001b[0mdtype\u001b[0m\u001b[1;33m,\u001b[0m \u001b[0mnp\u001b[0m\u001b[1;33m.\u001b[0m\u001b[0minteger\u001b[0m\u001b[1;33m)\u001b[0m\u001b[1;33m:\u001b[0m\u001b[1;33m\u001b[0m\u001b[1;33m\u001b[0m\u001b[0m\n\u001b[1;32m-> 1168\u001b[1;33m         \u001b[1;32mreturn\u001b[0m \u001b[0mastype_float_to_int_nansafe\u001b[0m\u001b[1;33m(\u001b[0m\u001b[0marr\u001b[0m\u001b[1;33m,\u001b[0m \u001b[0mdtype\u001b[0m\u001b[1;33m,\u001b[0m \u001b[0mcopy\u001b[0m\u001b[1;33m)\u001b[0m\u001b[1;33m\u001b[0m\u001b[1;33m\u001b[0m\u001b[0m\n\u001b[0m\u001b[0;32m   1169\u001b[0m \u001b[1;33m\u001b[0m\u001b[0m\n\u001b[0;32m   1170\u001b[0m     \u001b[1;32melif\u001b[0m \u001b[0mis_object_dtype\u001b[0m\u001b[1;33m(\u001b[0m\u001b[0marr\u001b[0m\u001b[1;33m)\u001b[0m\u001b[1;33m:\u001b[0m\u001b[1;33m\u001b[0m\u001b[1;33m\u001b[0m\u001b[0m\n",
      "\u001b[1;32m~\\anaconda3\\lib\\site-packages\\pandas\\core\\dtypes\\cast.py\u001b[0m in \u001b[0;36mastype_float_to_int_nansafe\u001b[1;34m(values, dtype, copy)\u001b[0m\n\u001b[0;32m   1211\u001b[0m     \"\"\"\n\u001b[0;32m   1212\u001b[0m     \u001b[1;32mif\u001b[0m \u001b[1;32mnot\u001b[0m \u001b[0mnp\u001b[0m\u001b[1;33m.\u001b[0m\u001b[0misfinite\u001b[0m\u001b[1;33m(\u001b[0m\u001b[0mvalues\u001b[0m\u001b[1;33m)\u001b[0m\u001b[1;33m.\u001b[0m\u001b[0mall\u001b[0m\u001b[1;33m(\u001b[0m\u001b[1;33m)\u001b[0m\u001b[1;33m:\u001b[0m\u001b[1;33m\u001b[0m\u001b[1;33m\u001b[0m\u001b[0m\n\u001b[1;32m-> 1213\u001b[1;33m         raise IntCastingNaNError(\n\u001b[0m\u001b[0;32m   1214\u001b[0m             \u001b[1;34m\"Cannot convert non-finite values (NA or inf) to integer\"\u001b[0m\u001b[1;33m\u001b[0m\u001b[1;33m\u001b[0m\u001b[0m\n\u001b[0;32m   1215\u001b[0m         )\n",
      "\u001b[1;31mIntCastingNaNError\u001b[0m: Cannot convert non-finite values (NA or inf) to integer"
     ]
    }
   ],
   "source": [
    "# Converting nullable data types into other data types\n",
    "data_frame['Customer ID'] =\\\n",
    "data_frame['Customer ID'].astype('int')\n",
    "data_frame['Customer ID']"
   ]
  },
  {
   "cell_type": "code",
   "execution_count": 147,
   "id": "b7e429db",
   "metadata": {},
   "outputs": [
    {
     "data": {
      "text/plain": [
       "0      Pandas Banking\n",
       "1      Pandas Grocery\n",
       "2      Pandas Telecom\n",
       "3    Pandas Transport\n",
       "4                 NaN\n",
       "Name: Customer Name, dtype: object"
      ]
     },
     "execution_count": 147,
     "metadata": {},
     "output_type": "execute_result"
    }
   ],
   "source": [
    "# Converting Customer Name into an object\n",
    "data_frame['Customer Name'] =\\\n",
    "data_frame['Customer Name'].astype('object')\n",
    "\n",
    "data_frame['Customer Name']"
   ]
  },
  {
   "cell_type": "code",
   "execution_count": 148,
   "id": "4e8321ed",
   "metadata": {},
   "outputs": [
    {
     "data": {
      "text/plain": [
       "0    False\n",
       "1     True\n",
       "2    False\n",
       "3     True\n",
       "4    False\n",
       "Name: New Customer, dtype: bool"
      ]
     },
     "execution_count": 148,
     "metadata": {},
     "output_type": "execute_result"
    }
   ],
   "source": [
    "# Converting New Customer back into bool\n",
    "\n",
    "data_frame['New Customer'] =\\\n",
    "data_frame['New Customer'].astype('bool')\n",
    "data_frame['New Customer']"
   ]
  },
  {
   "cell_type": "code",
   "execution_count": 150,
   "id": "07d73833",
   "metadata": {},
   "outputs": [
    {
     "data": {
      "text/plain": [
       "0   -2732 days\n",
       "1   -1585 days\n",
       "2          NaT\n",
       "3    -960 days\n",
       "4   -4110 days\n",
       "Name: Starting Date, dtype: timedelta64[ns]"
      ]
     },
     "execution_count": 150,
     "metadata": {},
     "output_type": "execute_result"
    }
   ],
   "source": [
    "# Calculating the differences between Starting Date and 2020-09-01\n",
    "\n",
    "data_frame['Starting Date'] - pd.to_datetime('2020-09-01')"
   ]
  },
  {
   "cell_type": "markdown",
   "id": "49c590e1",
   "metadata": {},
   "source": [
    "### Exercise 4.02 missing data and converting into non-nullabla dtypes\n"
   ]
  },
  {
   "cell_type": "code",
   "execution_count": 155,
   "id": "6aa929c1",
   "metadata": {},
   "outputs": [],
   "source": [
    "# Importing libraries\n",
    "import pandas as pd\n"
   ]
  },
  {
   "cell_type": "code",
   "execution_count": 156,
   "id": "cae514c8",
   "metadata": {},
   "outputs": [],
   "source": [
    "# Loading csv file\n",
    "data_retail = pd.read_csv('C:retail_purchase_missing.csv')\n"
   ]
  },
  {
   "cell_type": "code",
   "execution_count": 157,
   "id": "8087570f",
   "metadata": {},
   "outputs": [
    {
     "data": {
      "text/html": [
       "<div>\n",
       "<style scoped>\n",
       "    .dataframe tbody tr th:only-of-type {\n",
       "        vertical-align: middle;\n",
       "    }\n",
       "\n",
       "    .dataframe tbody tr th {\n",
       "        vertical-align: top;\n",
       "    }\n",
       "\n",
       "    .dataframe thead th {\n",
       "        text-align: right;\n",
       "    }\n",
       "</style>\n",
       "<table border=\"1\" class=\"dataframe\">\n",
       "  <thead>\n",
       "    <tr style=\"text-align: right;\">\n",
       "      <th></th>\n",
       "      <th>Receipt Id</th>\n",
       "      <th>Date of Purchase</th>\n",
       "      <th>Product Name</th>\n",
       "      <th>Product Weight</th>\n",
       "      <th>Total Price</th>\n",
       "      <th>Retail shop name</th>\n",
       "    </tr>\n",
       "  </thead>\n",
       "  <tbody>\n",
       "    <tr>\n",
       "      <th>0</th>\n",
       "      <td>10001.0</td>\n",
       "      <td>24/05/20</td>\n",
       "      <td>Wheat</td>\n",
       "      <td>87.0</td>\n",
       "      <td>99.0</td>\n",
       "      <td>NaN</td>\n",
       "    </tr>\n",
       "    <tr>\n",
       "      <th>1</th>\n",
       "      <td>NaN</td>\n",
       "      <td>05/05/20</td>\n",
       "      <td>NaN</td>\n",
       "      <td>NaN</td>\n",
       "      <td>25.0</td>\n",
       "      <td>Dello Superstore</td>\n",
       "    </tr>\n",
       "    <tr>\n",
       "      <th>2</th>\n",
       "      <td>10003.0</td>\n",
       "      <td>27/04/20</td>\n",
       "      <td>Vegetables</td>\n",
       "      <td>19.0</td>\n",
       "      <td>37.0</td>\n",
       "      <td>Javies Retail</td>\n",
       "    </tr>\n",
       "    <tr>\n",
       "      <th>3</th>\n",
       "      <td>10004.0</td>\n",
       "      <td>05/05/20</td>\n",
       "      <td>Oil</td>\n",
       "      <td>99.0</td>\n",
       "      <td>44.0</td>\n",
       "      <td>Javies Retail</td>\n",
       "    </tr>\n",
       "    <tr>\n",
       "      <th>4</th>\n",
       "      <td>10005.0</td>\n",
       "      <td>NaN</td>\n",
       "      <td>Wheat</td>\n",
       "      <td>30.0</td>\n",
       "      <td>NaN</td>\n",
       "      <td>Javies Retail</td>\n",
       "    </tr>\n",
       "  </tbody>\n",
       "</table>\n",
       "</div>"
      ],
      "text/plain": [
       "   Receipt Id Date of Purchase Product Name  Product Weight  Total Price  \\\n",
       "0     10001.0         24/05/20        Wheat            87.0         99.0   \n",
       "1         NaN         05/05/20          NaN             NaN         25.0   \n",
       "2     10003.0         27/04/20   Vegetables            19.0         37.0   \n",
       "3     10004.0         05/05/20          Oil            99.0         44.0   \n",
       "4     10005.0              NaN        Wheat            30.0          NaN   \n",
       "\n",
       "   Retail shop name  \n",
       "0               NaN  \n",
       "1  Dello Superstore  \n",
       "2     Javies Retail  \n",
       "3     Javies Retail  \n",
       "4     Javies Retail  "
      ]
     },
     "execution_count": 157,
     "metadata": {},
     "output_type": "execute_result"
    }
   ],
   "source": [
    "# Displaying dataframe\n",
    "data_retail.head()\n"
   ]
  },
  {
   "cell_type": "code",
   "execution_count": 158,
   "id": "cfea369e",
   "metadata": {},
   "outputs": [
    {
     "name": "stdout",
     "output_type": "stream",
     "text": [
      "<class 'pandas.core.frame.DataFrame'>\n",
      "RangeIndex: 58 entries, 0 to 57\n",
      "Data columns (total 6 columns):\n",
      " #   Column            Non-Null Count  Dtype  \n",
      "---  ------            --------------  -----  \n",
      " 0   Receipt Id        44 non-null     float64\n",
      " 1   Date of Purchase  46 non-null     object \n",
      " 2   Product Name      46 non-null     object \n",
      " 3   Product Weight    51 non-null     float64\n",
      " 4   Total Price       51 non-null     float64\n",
      " 5   Retail shop name  45 non-null     object \n",
      "dtypes: float64(3), object(3)\n",
      "memory usage: 2.8+ KB\n"
     ]
    }
   ],
   "source": [
    "# Displaying data types\n",
    "data_retail.info()"
   ]
  },
  {
   "cell_type": "code",
   "execution_count": 163,
   "id": "b3dc9aac",
   "metadata": {},
   "outputs": [
    {
     "data": {
      "text/html": [
       "<div>\n",
       "<style scoped>\n",
       "    .dataframe tbody tr th:only-of-type {\n",
       "        vertical-align: middle;\n",
       "    }\n",
       "\n",
       "    .dataframe tbody tr th {\n",
       "        vertical-align: top;\n",
       "    }\n",
       "\n",
       "    .dataframe thead th {\n",
       "        text-align: right;\n",
       "    }\n",
       "</style>\n",
       "<table border=\"1\" class=\"dataframe\">\n",
       "  <thead>\n",
       "    <tr style=\"text-align: right;\">\n",
       "      <th></th>\n",
       "      <th>Receipt Id</th>\n",
       "      <th>Date of Purchase</th>\n",
       "      <th>Product Name</th>\n",
       "      <th>Product Weight</th>\n",
       "      <th>Total Price</th>\n",
       "      <th>Retail shop name</th>\n",
       "    </tr>\n",
       "  </thead>\n",
       "  <tbody>\n",
       "    <tr>\n",
       "      <th>0</th>\n",
       "      <td>10001.0</td>\n",
       "      <td>24/05/20</td>\n",
       "      <td>Wheat</td>\n",
       "      <td>87.0</td>\n",
       "      <td>99.0</td>\n",
       "      <td>NaN</td>\n",
       "    </tr>\n",
       "    <tr>\n",
       "      <th>1</th>\n",
       "      <td>0.0</td>\n",
       "      <td>05/05/20</td>\n",
       "      <td>NaN</td>\n",
       "      <td>0.0</td>\n",
       "      <td>25.0</td>\n",
       "      <td>Dello Superstore</td>\n",
       "    </tr>\n",
       "    <tr>\n",
       "      <th>2</th>\n",
       "      <td>10003.0</td>\n",
       "      <td>27/04/20</td>\n",
       "      <td>Vegetables</td>\n",
       "      <td>19.0</td>\n",
       "      <td>37.0</td>\n",
       "      <td>Javies Retail</td>\n",
       "    </tr>\n",
       "    <tr>\n",
       "      <th>3</th>\n",
       "      <td>10004.0</td>\n",
       "      <td>05/05/20</td>\n",
       "      <td>Oil</td>\n",
       "      <td>99.0</td>\n",
       "      <td>44.0</td>\n",
       "      <td>Javies Retail</td>\n",
       "    </tr>\n",
       "    <tr>\n",
       "      <th>4</th>\n",
       "      <td>10005.0</td>\n",
       "      <td>NaN</td>\n",
       "      <td>Wheat</td>\n",
       "      <td>30.0</td>\n",
       "      <td>0.0</td>\n",
       "      <td>Javies Retail</td>\n",
       "    </tr>\n",
       "  </tbody>\n",
       "</table>\n",
       "</div>"
      ],
      "text/plain": [
       "   Receipt Id Date of Purchase Product Name  Product Weight  Total Price  \\\n",
       "0     10001.0         24/05/20        Wheat            87.0         99.0   \n",
       "1         0.0         05/05/20          NaN             0.0         25.0   \n",
       "2     10003.0         27/04/20   Vegetables            19.0         37.0   \n",
       "3     10004.0         05/05/20          Oil            99.0         44.0   \n",
       "4     10005.0              NaN        Wheat            30.0          0.0   \n",
       "\n",
       "   Retail shop name  \n",
       "0               NaN  \n",
       "1  Dello Superstore  \n",
       "2     Javies Retail  \n",
       "3     Javies Retail  \n",
       "4     Javies Retail  "
      ]
     },
     "execution_count": 163,
     "metadata": {},
     "output_type": "execute_result"
    }
   ],
   "source": [
    "# Replacing missing values by 0 with fillna() fuction\n",
    "\n",
    "data_retail.fillna(value = {'Receipt Id': 0, \\\n",
    "                           'Product Weight': 0, \\\n",
    "                           'Total Price': 0}, \\\n",
    "                  inplace= True)\n",
    "\n",
    "data_retail.head()"
   ]
  },
  {
   "cell_type": "code",
   "execution_count": 165,
   "id": "953618df",
   "metadata": {},
   "outputs": [
    {
     "data": {
      "text/html": [
       "<div>\n",
       "<style scoped>\n",
       "    .dataframe tbody tr th:only-of-type {\n",
       "        vertical-align: middle;\n",
       "    }\n",
       "\n",
       "    .dataframe tbody tr th {\n",
       "        vertical-align: top;\n",
       "    }\n",
       "\n",
       "    .dataframe thead th {\n",
       "        text-align: right;\n",
       "    }\n",
       "</style>\n",
       "<table border=\"1\" class=\"dataframe\">\n",
       "  <thead>\n",
       "    <tr style=\"text-align: right;\">\n",
       "      <th></th>\n",
       "      <th>Receipt Id</th>\n",
       "      <th>Date of Purchase</th>\n",
       "      <th>Product Name</th>\n",
       "      <th>Product Weight</th>\n",
       "      <th>Total Price</th>\n",
       "      <th>Retail shop name</th>\n",
       "    </tr>\n",
       "  </thead>\n",
       "  <tbody>\n",
       "    <tr>\n",
       "      <th>0</th>\n",
       "      <td>10001.0</td>\n",
       "      <td>24/05/20</td>\n",
       "      <td>Wheat</td>\n",
       "      <td>87.0</td>\n",
       "      <td>99.0</td>\n",
       "      <td>NaN</td>\n",
       "    </tr>\n",
       "    <tr>\n",
       "      <th>1</th>\n",
       "      <td>0.0</td>\n",
       "      <td>05/05/20</td>\n",
       "      <td>NaN</td>\n",
       "      <td>0.0</td>\n",
       "      <td>25.0</td>\n",
       "      <td>Dello Superstore</td>\n",
       "    </tr>\n",
       "    <tr>\n",
       "      <th>2</th>\n",
       "      <td>10003.0</td>\n",
       "      <td>27/04/20</td>\n",
       "      <td>Vegetables</td>\n",
       "      <td>19.0</td>\n",
       "      <td>37.0</td>\n",
       "      <td>Javies Retail</td>\n",
       "    </tr>\n",
       "    <tr>\n",
       "      <th>3</th>\n",
       "      <td>10004.0</td>\n",
       "      <td>05/05/20</td>\n",
       "      <td>Oil</td>\n",
       "      <td>99.0</td>\n",
       "      <td>44.0</td>\n",
       "      <td>Javies Retail</td>\n",
       "    </tr>\n",
       "    <tr>\n",
       "      <th>4</th>\n",
       "      <td>10005.0</td>\n",
       "      <td>01/01/99</td>\n",
       "      <td>Wheat</td>\n",
       "      <td>30.0</td>\n",
       "      <td>0.0</td>\n",
       "      <td>Javies Retail</td>\n",
       "    </tr>\n",
       "  </tbody>\n",
       "</table>\n",
       "</div>"
      ],
      "text/plain": [
       "   Receipt Id Date of Purchase Product Name  Product Weight  Total Price  \\\n",
       "0     10001.0         24/05/20        Wheat            87.0         99.0   \n",
       "1         0.0         05/05/20          NaN             0.0         25.0   \n",
       "2     10003.0         27/04/20   Vegetables            19.0         37.0   \n",
       "3     10004.0         05/05/20          Oil            99.0         44.0   \n",
       "4     10005.0         01/01/99        Wheat            30.0          0.0   \n",
       "\n",
       "   Retail shop name  \n",
       "0               NaN  \n",
       "1  Dello Superstore  \n",
       "2     Javies Retail  \n",
       "3     Javies Retail  \n",
       "4     Javies Retail  "
      ]
     },
     "execution_count": 165,
     "metadata": {},
     "output_type": "execute_result"
    }
   ],
   "source": [
    "# Replacing the missing values in the Date of purchase\n",
    "data_retail.fillna(value= {'Date of Purchase': '01/01/99'}, inplace =True)\n",
    "\n",
    "data_retail.head()"
   ]
  },
  {
   "cell_type": "code",
   "execution_count": 172,
   "id": "8821c1c5",
   "metadata": {},
   "outputs": [
    {
     "data": {
      "text/html": [
       "<div>\n",
       "<style scoped>\n",
       "    .dataframe tbody tr th:only-of-type {\n",
       "        vertical-align: middle;\n",
       "    }\n",
       "\n",
       "    .dataframe tbody tr th {\n",
       "        vertical-align: top;\n",
       "    }\n",
       "\n",
       "    .dataframe thead th {\n",
       "        text-align: right;\n",
       "    }\n",
       "</style>\n",
       "<table border=\"1\" class=\"dataframe\">\n",
       "  <thead>\n",
       "    <tr style=\"text-align: right;\">\n",
       "      <th></th>\n",
       "      <th>Receipt Id</th>\n",
       "      <th>Date of Purchase</th>\n",
       "      <th>Product Name</th>\n",
       "      <th>Product Weight</th>\n",
       "      <th>Total Price</th>\n",
       "      <th>Retail shop name</th>\n",
       "    </tr>\n",
       "  </thead>\n",
       "  <tbody>\n",
       "    <tr>\n",
       "      <th>0</th>\n",
       "      <td>10001.0</td>\n",
       "      <td>24/05/20</td>\n",
       "      <td>Wheat</td>\n",
       "      <td>87.0</td>\n",
       "      <td>99.0</td>\n",
       "      <td>Mssing Name</td>\n",
       "    </tr>\n",
       "    <tr>\n",
       "      <th>1</th>\n",
       "      <td>0.0</td>\n",
       "      <td>05/05/20</td>\n",
       "      <td>Missing Name</td>\n",
       "      <td>0.0</td>\n",
       "      <td>25.0</td>\n",
       "      <td>Dello Superstore</td>\n",
       "    </tr>\n",
       "    <tr>\n",
       "      <th>2</th>\n",
       "      <td>10003.0</td>\n",
       "      <td>27/04/20</td>\n",
       "      <td>Vegetables</td>\n",
       "      <td>19.0</td>\n",
       "      <td>37.0</td>\n",
       "      <td>Javies Retail</td>\n",
       "    </tr>\n",
       "    <tr>\n",
       "      <th>3</th>\n",
       "      <td>10004.0</td>\n",
       "      <td>05/05/20</td>\n",
       "      <td>Oil</td>\n",
       "      <td>99.0</td>\n",
       "      <td>44.0</td>\n",
       "      <td>Javies Retail</td>\n",
       "    </tr>\n",
       "    <tr>\n",
       "      <th>4</th>\n",
       "      <td>10005.0</td>\n",
       "      <td>01/01/99</td>\n",
       "      <td>Wheat</td>\n",
       "      <td>30.0</td>\n",
       "      <td>0.0</td>\n",
       "      <td>Javies Retail</td>\n",
       "    </tr>\n",
       "  </tbody>\n",
       "</table>\n",
       "</div>"
      ],
      "text/plain": [
       "   Receipt Id Date of Purchase  Product Name  Product Weight  Total Price  \\\n",
       "0     10001.0         24/05/20         Wheat            87.0         99.0   \n",
       "1         0.0         05/05/20  Missing Name             0.0         25.0   \n",
       "2     10003.0         27/04/20    Vegetables            19.0         37.0   \n",
       "3     10004.0         05/05/20           Oil            99.0         44.0   \n",
       "4     10005.0         01/01/99         Wheat            30.0          0.0   \n",
       "\n",
       "   Retail shop name  \n",
       "0       Mssing Name  \n",
       "1  Dello Superstore  \n",
       "2     Javies Retail  \n",
       "3     Javies Retail  \n",
       "4     Javies Retail  "
      ]
     },
     "execution_count": 172,
     "metadata": {},
     "output_type": "execute_result"
    }
   ],
   "source": [
    "# Replacing the missing values with Missing Name in the remaining columns \n",
    "\n",
    "data_retail.fillna(value= {'Product Name':'Missing Name', \\\n",
    "                           'Retail shop name': 'Missing Name'}, inplace= True)\n",
    "\n",
    "data_retail.head()"
   ]
  },
  {
   "cell_type": "code",
   "execution_count": 173,
   "id": "58d3d3d0",
   "metadata": {},
   "outputs": [
    {
     "name": "stdout",
     "output_type": "stream",
     "text": [
      "<class 'pandas.core.frame.DataFrame'>\n",
      "RangeIndex: 58 entries, 0 to 57\n",
      "Data columns (total 6 columns):\n",
      " #   Column            Non-Null Count  Dtype         \n",
      "---  ------            --------------  -----         \n",
      " 0   Receipt Id        58 non-null     int32         \n",
      " 1   Date of Purchase  58 non-null     datetime64[ns]\n",
      " 2   Product Name      58 non-null     category      \n",
      " 3   Product Weight    58 non-null     int32         \n",
      " 4   Total Price       58 non-null     int32         \n",
      " 5   Retail shop name  58 non-null     category      \n",
      "dtypes: category(2), datetime64[ns](1), int32(3)\n",
      "memory usage: 2.1 KB\n"
     ]
    }
   ],
   "source": [
    "# Converting the data types of the columns \n",
    "\n",
    "data_retail['Date of Purchase'] = \\\n",
    "pd.to_datetime(data_retail['Date of Purchase'], \\\n",
    "               format='%d/%m/%y')\n",
    "\n",
    "data_retail['Receipt Id'] = \\\n",
    "data_retail['Receipt Id'].astype('int')\n",
    "\n",
    "data_retail['Total Price'] = \\\n",
    "data_retail['Total Price'].astype('int')\n",
    "\n",
    "data_retail['Product Weight'] = \\\n",
    "data_retail['Product Weight'].astype('int')\n",
    "\n",
    "data_retail['Product Name'] = \\\n",
    "data_retail['Product Name'].astype('category')\n",
    "\n",
    "data_retail['Retail shop name'] = \\\n",
    "data_retail['Retail shop name'].astype('category')\n",
    "\n",
    "data_retail.info()"
   ]
  },
  {
   "cell_type": "markdown",
   "id": "133c178d",
   "metadata": {},
   "source": [
    "## Activity 4.01 - optimizing memory usage by converting into the appropriate dtypes\n"
   ]
  },
  {
   "cell_type": "code",
   "execution_count": 210,
   "id": "0080aaa5",
   "metadata": {},
   "outputs": [],
   "source": [
    "# 2. Importing libraries\n",
    "import pandas as pd"
   ]
  },
  {
   "cell_type": "code",
   "execution_count": 211,
   "id": "d41483e6",
   "metadata": {},
   "outputs": [],
   "source": [
    "# 3. Loading the csv file as Data Frame\n",
    "\n",
    "data_car = pd.read_csv('c:car.csv')"
   ]
  },
  {
   "cell_type": "code",
   "execution_count": 212,
   "id": "ff648d50",
   "metadata": {},
   "outputs": [
    {
     "data": {
      "text/html": [
       "<div>\n",
       "<style scoped>\n",
       "    .dataframe tbody tr th:only-of-type {\n",
       "        vertical-align: middle;\n",
       "    }\n",
       "\n",
       "    .dataframe tbody tr th {\n",
       "        vertical-align: top;\n",
       "    }\n",
       "\n",
       "    .dataframe thead th {\n",
       "        text-align: right;\n",
       "    }\n",
       "</style>\n",
       "<table border=\"1\" class=\"dataframe\">\n",
       "  <thead>\n",
       "    <tr style=\"text-align: right;\">\n",
       "      <th></th>\n",
       "      <th>buying</th>\n",
       "      <th>maint</th>\n",
       "      <th>doors</th>\n",
       "      <th>persons</th>\n",
       "      <th>lug_boot</th>\n",
       "      <th>safety</th>\n",
       "      <th>class</th>\n",
       "    </tr>\n",
       "  </thead>\n",
       "  <tbody>\n",
       "    <tr>\n",
       "      <th>0</th>\n",
       "      <td>vhigh</td>\n",
       "      <td>vhigh</td>\n",
       "      <td>2</td>\n",
       "      <td>2.0</td>\n",
       "      <td>small</td>\n",
       "      <td>low</td>\n",
       "      <td>unacc</td>\n",
       "    </tr>\n",
       "    <tr>\n",
       "      <th>1</th>\n",
       "      <td>vhigh</td>\n",
       "      <td>vhigh</td>\n",
       "      <td>2</td>\n",
       "      <td>2.0</td>\n",
       "      <td>small</td>\n",
       "      <td>med</td>\n",
       "      <td>unacc</td>\n",
       "    </tr>\n",
       "    <tr>\n",
       "      <th>2</th>\n",
       "      <td>vhigh</td>\n",
       "      <td>vhigh</td>\n",
       "      <td>2</td>\n",
       "      <td>NaN</td>\n",
       "      <td>small</td>\n",
       "      <td>high</td>\n",
       "      <td>unacc</td>\n",
       "    </tr>\n",
       "    <tr>\n",
       "      <th>3</th>\n",
       "      <td>vhigh</td>\n",
       "      <td>vhigh</td>\n",
       "      <td>2</td>\n",
       "      <td>2.0</td>\n",
       "      <td>med</td>\n",
       "      <td>low</td>\n",
       "      <td>unacc</td>\n",
       "    </tr>\n",
       "    <tr>\n",
       "      <th>4</th>\n",
       "      <td>vhigh</td>\n",
       "      <td>vhigh</td>\n",
       "      <td>2</td>\n",
       "      <td>2.0</td>\n",
       "      <td>med</td>\n",
       "      <td>med</td>\n",
       "      <td>unacc</td>\n",
       "    </tr>\n",
       "    <tr>\n",
       "      <th>5</th>\n",
       "      <td>NaN</td>\n",
       "      <td>vhigh</td>\n",
       "      <td>2</td>\n",
       "      <td>2.0</td>\n",
       "      <td>med</td>\n",
       "      <td>high</td>\n",
       "      <td>NaN</td>\n",
       "    </tr>\n",
       "    <tr>\n",
       "      <th>6</th>\n",
       "      <td>vhigh</td>\n",
       "      <td>vhigh</td>\n",
       "      <td>2</td>\n",
       "      <td>2.0</td>\n",
       "      <td>big</td>\n",
       "      <td>low</td>\n",
       "      <td>unacc</td>\n",
       "    </tr>\n",
       "    <tr>\n",
       "      <th>7</th>\n",
       "      <td>vhigh</td>\n",
       "      <td>vhigh</td>\n",
       "      <td>2</td>\n",
       "      <td>2.0</td>\n",
       "      <td>big</td>\n",
       "      <td>NaN</td>\n",
       "      <td>unacc</td>\n",
       "    </tr>\n",
       "    <tr>\n",
       "      <th>8</th>\n",
       "      <td>vhigh</td>\n",
       "      <td>vhigh</td>\n",
       "      <td>2</td>\n",
       "      <td>2.0</td>\n",
       "      <td>big</td>\n",
       "      <td>high</td>\n",
       "      <td>unacc</td>\n",
       "    </tr>\n",
       "    <tr>\n",
       "      <th>9</th>\n",
       "      <td>vhigh</td>\n",
       "      <td>NaN</td>\n",
       "      <td>2</td>\n",
       "      <td>4.0</td>\n",
       "      <td>small</td>\n",
       "      <td>low</td>\n",
       "      <td>unacc</td>\n",
       "    </tr>\n",
       "  </tbody>\n",
       "</table>\n",
       "</div>"
      ],
      "text/plain": [
       "  buying  maint  doors  persons lug_boot safety  class\n",
       "0  vhigh  vhigh      2      2.0    small    low  unacc\n",
       "1  vhigh  vhigh      2      2.0    small    med  unacc\n",
       "2  vhigh  vhigh      2      NaN    small   high  unacc\n",
       "3  vhigh  vhigh      2      2.0      med    low  unacc\n",
       "4  vhigh  vhigh      2      2.0      med    med  unacc\n",
       "5    NaN  vhigh      2      2.0      med   high    NaN\n",
       "6  vhigh  vhigh      2      2.0      big    low  unacc\n",
       "7  vhigh  vhigh      2      2.0      big    NaN  unacc\n",
       "8  vhigh  vhigh      2      2.0      big   high  unacc\n",
       "9  vhigh    NaN      2      4.0    small    low  unacc"
      ]
     },
     "execution_count": 212,
     "metadata": {},
     "output_type": "execute_result"
    }
   ],
   "source": [
    "# 4. Displaying the first 10 rows\n",
    "\n",
    "data_car.head(10)"
   ]
  },
  {
   "cell_type": "code",
   "execution_count": 213,
   "id": "a99ebe2b",
   "metadata": {},
   "outputs": [
    {
     "name": "stdout",
     "output_type": "stream",
     "text": [
      "<class 'pandas.core.frame.DataFrame'>\n",
      "RangeIndex: 1728 entries, 0 to 1727\n",
      "Data columns (total 7 columns):\n",
      " #   Column    Non-Null Count  Dtype  \n",
      "---  ------    --------------  -----  \n",
      " 0   buying    1727 non-null   object \n",
      " 1   maint     1727 non-null   object \n",
      " 2   doors     1728 non-null   int64  \n",
      " 3   persons   1151 non-null   float64\n",
      " 4   lug_boot  1728 non-null   object \n",
      " 5   safety    1727 non-null   object \n",
      " 6   class     1727 non-null   object \n",
      "dtypes: float64(1), int64(1), object(5)\n",
      "memory usage: 94.6+ KB\n"
     ]
    }
   ],
   "source": [
    "# 5. Display the data types of each column in the DataFrame\n",
    "\n",
    "data_car.info()\n"
   ]
  },
  {
   "cell_type": "code",
   "execution_count": 214,
   "id": "7a4414cf",
   "metadata": {},
   "outputs": [
    {
     "data": {
      "text/html": [
       "<div>\n",
       "<style scoped>\n",
       "    .dataframe tbody tr th:only-of-type {\n",
       "        vertical-align: middle;\n",
       "    }\n",
       "\n",
       "    .dataframe tbody tr th {\n",
       "        vertical-align: top;\n",
       "    }\n",
       "\n",
       "    .dataframe thead th {\n",
       "        text-align: right;\n",
       "    }\n",
       "</style>\n",
       "<table border=\"1\" class=\"dataframe\">\n",
       "  <thead>\n",
       "    <tr style=\"text-align: right;\">\n",
       "      <th></th>\n",
       "      <th>buying</th>\n",
       "      <th>maint</th>\n",
       "      <th>doors</th>\n",
       "      <th>persons</th>\n",
       "      <th>lug_boot</th>\n",
       "      <th>safety</th>\n",
       "      <th>class</th>\n",
       "    </tr>\n",
       "  </thead>\n",
       "  <tbody>\n",
       "    <tr>\n",
       "      <th>0</th>\n",
       "      <td>vhigh</td>\n",
       "      <td>vhigh</td>\n",
       "      <td>2</td>\n",
       "      <td>2.0</td>\n",
       "      <td>small</td>\n",
       "      <td>low</td>\n",
       "      <td>unacc</td>\n",
       "    </tr>\n",
       "    <tr>\n",
       "      <th>1</th>\n",
       "      <td>vhigh</td>\n",
       "      <td>vhigh</td>\n",
       "      <td>2</td>\n",
       "      <td>2.0</td>\n",
       "      <td>small</td>\n",
       "      <td>med</td>\n",
       "      <td>unacc</td>\n",
       "    </tr>\n",
       "    <tr>\n",
       "      <th>2</th>\n",
       "      <td>vhigh</td>\n",
       "      <td>vhigh</td>\n",
       "      <td>2</td>\n",
       "      <td>3.0</td>\n",
       "      <td>small</td>\n",
       "      <td>high</td>\n",
       "      <td>unacc</td>\n",
       "    </tr>\n",
       "    <tr>\n",
       "      <th>3</th>\n",
       "      <td>vhigh</td>\n",
       "      <td>vhigh</td>\n",
       "      <td>2</td>\n",
       "      <td>2.0</td>\n",
       "      <td>med</td>\n",
       "      <td>low</td>\n",
       "      <td>unacc</td>\n",
       "    </tr>\n",
       "    <tr>\n",
       "      <th>4</th>\n",
       "      <td>vhigh</td>\n",
       "      <td>vhigh</td>\n",
       "      <td>2</td>\n",
       "      <td>2.0</td>\n",
       "      <td>med</td>\n",
       "      <td>med</td>\n",
       "      <td>unacc</td>\n",
       "    </tr>\n",
       "    <tr>\n",
       "      <th>5</th>\n",
       "      <td>missing info</td>\n",
       "      <td>vhigh</td>\n",
       "      <td>2</td>\n",
       "      <td>2.0</td>\n",
       "      <td>med</td>\n",
       "      <td>high</td>\n",
       "      <td>missing info</td>\n",
       "    </tr>\n",
       "    <tr>\n",
       "      <th>6</th>\n",
       "      <td>vhigh</td>\n",
       "      <td>vhigh</td>\n",
       "      <td>2</td>\n",
       "      <td>2.0</td>\n",
       "      <td>big</td>\n",
       "      <td>low</td>\n",
       "      <td>unacc</td>\n",
       "    </tr>\n",
       "    <tr>\n",
       "      <th>7</th>\n",
       "      <td>vhigh</td>\n",
       "      <td>vhigh</td>\n",
       "      <td>2</td>\n",
       "      <td>2.0</td>\n",
       "      <td>big</td>\n",
       "      <td>missing info</td>\n",
       "      <td>unacc</td>\n",
       "    </tr>\n",
       "    <tr>\n",
       "      <th>8</th>\n",
       "      <td>vhigh</td>\n",
       "      <td>vhigh</td>\n",
       "      <td>2</td>\n",
       "      <td>2.0</td>\n",
       "      <td>big</td>\n",
       "      <td>high</td>\n",
       "      <td>unacc</td>\n",
       "    </tr>\n",
       "    <tr>\n",
       "      <th>9</th>\n",
       "      <td>vhigh</td>\n",
       "      <td>missing info</td>\n",
       "      <td>2</td>\n",
       "      <td>4.0</td>\n",
       "      <td>small</td>\n",
       "      <td>low</td>\n",
       "      <td>unacc</td>\n",
       "    </tr>\n",
       "  </tbody>\n",
       "</table>\n",
       "</div>"
      ],
      "text/plain": [
       "         buying         maint  doors  persons lug_boot        safety  \\\n",
       "0         vhigh         vhigh      2      2.0    small           low   \n",
       "1         vhigh         vhigh      2      2.0    small           med   \n",
       "2         vhigh         vhigh      2      3.0    small          high   \n",
       "3         vhigh         vhigh      2      2.0      med           low   \n",
       "4         vhigh         vhigh      2      2.0      med           med   \n",
       "5  missing info         vhigh      2      2.0      med          high   \n",
       "6         vhigh         vhigh      2      2.0      big           low   \n",
       "7         vhigh         vhigh      2      2.0      big  missing info   \n",
       "8         vhigh         vhigh      2      2.0      big          high   \n",
       "9         vhigh  missing info      2      4.0    small           low   \n",
       "\n",
       "          class  \n",
       "0         unacc  \n",
       "1         unacc  \n",
       "2         unacc  \n",
       "3         unacc  \n",
       "4         unacc  \n",
       "5  missing info  \n",
       "6         unacc  \n",
       "7         unacc  \n",
       "8         unacc  \n",
       "9         unacc  "
      ]
     },
     "execution_count": 214,
     "metadata": {},
     "output_type": "execute_result"
    }
   ],
   "source": [
    "# 6. Replacing the missing values appropriately\n",
    "\n",
    "data_car.fillna(value = {'persons': round(data_car.persons.mean()), \\\n",
    "                         'doors': round(data_car.doors.mean()) }, inplace= True)\n",
    "\n",
    "data_car.fillna(value = {'buying': 'missing info',\\\n",
    "                         'maint': 'missing info',\\\n",
    "                         'lug_boot': 'missing info',\\\n",
    "                         'safety': 'missing info',\\\n",
    "                         'class': 'missing info'}, inplace= True)\n",
    "\n",
    "\n",
    "data_car.head(10)\n"
   ]
  },
  {
   "cell_type": "code",
   "execution_count": 215,
   "id": "9edbc556",
   "metadata": {},
   "outputs": [
    {
     "data": {
      "text/plain": [
       "5"
      ]
     },
     "execution_count": 215,
     "metadata": {},
     "output_type": "execute_result"
    }
   ],
   "source": [
    "# 7. Counting the number of distinct unique values for buying, maint, doors, persons, lug_boot, safety, and class \n",
    "\n",
    "data_car['buying'].nunique()\n"
   ]
  },
  {
   "cell_type": "code",
   "execution_count": 216,
   "id": "ea86fe76",
   "metadata": {},
   "outputs": [
    {
     "data": {
      "text/plain": [
       "5"
      ]
     },
     "execution_count": 216,
     "metadata": {},
     "output_type": "execute_result"
    }
   ],
   "source": [
    "data_car['maint'].nunique()"
   ]
  },
  {
   "cell_type": "code",
   "execution_count": 217,
   "id": "020f4912",
   "metadata": {},
   "outputs": [
    {
     "data": {
      "text/plain": [
       "4"
      ]
     },
     "execution_count": 217,
     "metadata": {},
     "output_type": "execute_result"
    }
   ],
   "source": [
    "data_car['doors'].nunique()"
   ]
  },
  {
   "cell_type": "code",
   "execution_count": 218,
   "id": "f4bf884b",
   "metadata": {},
   "outputs": [
    {
     "data": {
      "text/plain": [
       "3"
      ]
     },
     "execution_count": 218,
     "metadata": {},
     "output_type": "execute_result"
    }
   ],
   "source": [
    "data_car['persons'].nunique()"
   ]
  },
  {
   "cell_type": "code",
   "execution_count": 219,
   "id": "935beb02",
   "metadata": {},
   "outputs": [
    {
     "data": {
      "text/plain": [
       "3"
      ]
     },
     "execution_count": 219,
     "metadata": {},
     "output_type": "execute_result"
    }
   ],
   "source": [
    "data_car['lug_boot'].nunique()"
   ]
  },
  {
   "cell_type": "code",
   "execution_count": 220,
   "id": "2c684faf",
   "metadata": {},
   "outputs": [
    {
     "data": {
      "text/plain": [
       "4"
      ]
     },
     "execution_count": 220,
     "metadata": {},
     "output_type": "execute_result"
    }
   ],
   "source": [
    "data_car['safety'].nunique()"
   ]
  },
  {
   "cell_type": "code",
   "execution_count": 221,
   "id": "700e6728",
   "metadata": {},
   "outputs": [
    {
     "data": {
      "text/plain": [
       "5"
      ]
     },
     "execution_count": 221,
     "metadata": {},
     "output_type": "execute_result"
    }
   ],
   "source": [
    "data_car['class'].nunique()"
   ]
  },
  {
   "cell_type": "code",
   "execution_count": 222,
   "id": "fcb44694",
   "metadata": {},
   "outputs": [],
   "source": [
    "# 8. Convert the object columns into category in the DataFrame\n",
    "\n",
    "data_car['buying'] = \\\n",
    "data_car['buying'].astype('category')\n",
    "\n",
    "data_car['maint'] = \\\n",
    "data_car['maint'].astype('category')\n",
    "\n",
    "\n",
    "data_car['persons'] = \\\n",
    "data_car['persons'].astype('int')\n",
    "\n",
    "data_car['lug_boot'] = \\\n",
    "data_car['lug_boot'].astype('category')\n",
    "\n",
    "data_car['safety'] = \\\n",
    "data_car['safety'].astype('category')\n",
    "\n",
    "data_car['class'] = \\\n",
    "data_car['class'].astype('category')\n"
   ]
  },
  {
   "cell_type": "code",
   "execution_count": 223,
   "id": "1fb17e14",
   "metadata": {},
   "outputs": [
    {
     "name": "stdout",
     "output_type": "stream",
     "text": [
      "<class 'pandas.core.frame.DataFrame'>\n",
      "RangeIndex: 1728 entries, 0 to 1727\n",
      "Data columns (total 7 columns):\n",
      " #   Column    Non-Null Count  Dtype   \n",
      "---  ------    --------------  -----   \n",
      " 0   buying    1728 non-null   category\n",
      " 1   maint     1728 non-null   category\n",
      " 2   doors     1728 non-null   int64   \n",
      " 3   persons   1728 non-null   int32   \n",
      " 4   lug_boot  1728 non-null   category\n",
      " 5   safety    1728 non-null   category\n",
      " 6   class     1728 non-null   category\n",
      "dtypes: category(5), int32(1), int64(1)\n",
      "memory usage: 29.8 KB\n"
     ]
    }
   ],
   "source": [
    "# 9. Displaying teh data types\n",
    "\n",
    "data_car.info()"
   ]
  },
  {
   "cell_type": "markdown",
   "id": "eacb9d5e",
   "metadata": {},
   "source": [
    "## Subsetting by data types"
   ]
  },
  {
   "cell_type": "code",
   "execution_count": 224,
   "id": "9c8db145",
   "metadata": {},
   "outputs": [
    {
     "data": {
      "text/plain": [
       "0    pandas is awesome\n",
       "dtype: object"
      ]
     },
     "execution_count": 224,
     "metadata": {},
     "output_type": "execute_result"
    }
   ],
   "source": [
    "import pandas as pd\n",
    "\n",
    "s = pd.Series(['pandas is awesome'])\n",
    "s"
   ]
  },
  {
   "cell_type": "code",
   "execution_count": 225,
   "id": "cbb6f4f2",
   "metadata": {},
   "outputs": [
    {
     "data": {
      "text/plain": [
       "0    [pandas, is, awesome]\n",
       "dtype: object"
      ]
     },
     "execution_count": 225,
     "metadata": {},
     "output_type": "execute_result"
    }
   ],
   "source": [
    "# Using the split() method\n",
    "\n",
    "s.str.split()"
   ]
  },
  {
   "cell_type": "code",
   "execution_count": 226,
   "id": "450529e8",
   "metadata": {},
   "outputs": [
    {
     "data": {
      "text/plain": [
       "0    python is awesome\n",
       "dtype: object"
      ]
     },
     "execution_count": 226,
     "metadata": {},
     "output_type": "execute_result"
    }
   ],
   "source": [
    "# Replacing the word pandas\n",
    "\n",
    "s.str.replace('pandas', 'python')"
   ]
  },
  {
   "cell_type": "code",
   "execution_count": 228,
   "id": "a48ddf0d",
   "metadata": {},
   "outputs": [
    {
     "data": {
      "text/plain": [
       "0    3\n",
       "dtype: int64"
      ]
     },
     "execution_count": 228,
     "metadata": {},
     "output_type": "execute_result"
    }
   ],
   "source": [
    "# Counting the number of words\n",
    "s.str.count('a')"
   ]
  },
  {
   "cell_type": "code",
   "execution_count": 229,
   "id": "afe6451c",
   "metadata": {},
   "outputs": [
    {
     "data": {
      "text/plain": [
       "0    17\n",
       "dtype: int64"
      ]
     },
     "execution_count": 229,
     "metadata": {},
     "output_type": "execute_result"
    }
   ],
   "source": [
    "# Counting the number of characters\n",
    "s.str.len()"
   ]
  },
  {
   "cell_type": "code",
   "execution_count": 231,
   "id": "e853e21f",
   "metadata": {},
   "outputs": [
    {
     "data": {
      "text/plain": [
       "0    Pandas is awesome\n",
       "dtype: object"
      ]
     },
     "execution_count": 231,
     "metadata": {},
     "output_type": "execute_result"
    }
   ],
   "source": [
    "# Capitalizing the strings\n",
    "\n",
    "s.str.capitalize()"
   ]
  },
  {
   "cell_type": "code",
   "execution_count": 232,
   "id": "611525da",
   "metadata": {},
   "outputs": [
    {
     "data": {
      "text/plain": [
       "0    True\n",
       "dtype: bool"
      ]
     },
     "execution_count": 232,
     "metadata": {},
     "output_type": "execute_result"
    }
   ],
   "source": [
    "# Testing if our series only contains lowercase characters\n",
    "s.str.islower()"
   ]
  },
  {
   "cell_type": "markdown",
   "id": "5bac5858",
   "metadata": {},
   "source": [
    "#### Working with the dtype category "
   ]
  },
  {
   "cell_type": "code",
   "execution_count": 236,
   "id": "600239b6",
   "metadata": {},
   "outputs": [
    {
     "data": {
      "text/plain": [
       "0   1990-05-31 10:00:00\n",
       "1   1995-06-05 15:00:00\n",
       "2   2020-09-09 12:01:00\n",
       "dtype: datetime64[ns]"
      ]
     },
     "execution_count": 236,
     "metadata": {},
     "output_type": "execute_result"
    }
   ],
   "source": [
    "# Defining a series with datetimes\n",
    "\n",
    "\n",
    "s = pd.to_datetime(pd.Series(['1990-05-31 10:00',\\\n",
    "                             '1995-06-05 15:00',\\\n",
    "                             '2020-09-09 12:01']))\n",
    "                             \n",
    "s"
   ]
  },
  {
   "cell_type": "code",
   "execution_count": 237,
   "id": "ef3b70fc",
   "metadata": {},
   "outputs": [
    {
     "data": {
      "text/plain": [
       "0    1990-05-31\n",
       "1    1995-06-05\n",
       "2    2020-09-09\n",
       "dtype: object"
      ]
     },
     "execution_count": 237,
     "metadata": {},
     "output_type": "execute_result"
    }
   ],
   "source": [
    "# Displaying the date with date() method\n",
    "\n",
    "s.dt.date"
   ]
  },
  {
   "cell_type": "code",
   "execution_count": 238,
   "id": "596cfd59",
   "metadata": {},
   "outputs": [
    {
     "data": {
      "text/plain": [
       "0    10:00:00\n",
       "1    15:00:00\n",
       "2    12:01:00\n",
       "dtype: object"
      ]
     },
     "execution_count": 238,
     "metadata": {},
     "output_type": "execute_result"
    }
   ],
   "source": [
    "# Displaying the time\n",
    "\n",
    "s.dt.time"
   ]
  },
  {
   "cell_type": "code",
   "execution_count": 239,
   "id": "11c98884",
   "metadata": {},
   "outputs": [
    {
     "data": {
      "text/plain": [
       "0    1990\n",
       "1    1995\n",
       "2    2020\n",
       "dtype: int64"
      ]
     },
     "execution_count": 239,
     "metadata": {},
     "output_type": "execute_result"
    }
   ],
   "source": [
    "# Displaying the year\n",
    "\n",
    "s.dt.year"
   ]
  },
  {
   "cell_type": "code",
   "execution_count": 241,
   "id": "68b903fb",
   "metadata": {},
   "outputs": [
    {
     "data": {
      "text/plain": [
       "0     Thursday\n",
       "1       Monday\n",
       "2    Wednesday\n",
       "dtype: object"
      ]
     },
     "execution_count": 241,
     "metadata": {},
     "output_type": "execute_result"
    }
   ],
   "source": [
    "# Displaying the day name of each date \n",
    "\n",
    "s.dt.day_name()"
   ]
  },
  {
   "cell_type": "markdown",
   "id": "4c73df4d",
   "metadata": {},
   "source": [
    "#### Working with      dtype = timedelta64[ns]"
   ]
  },
  {
   "cell_type": "code",
   "execution_count": 242,
   "id": "9ddf9797",
   "metadata": {},
   "outputs": [
    {
     "data": {
      "text/plain": [
       "0   -10807 days\n",
       "1    -8976 days\n",
       "2      252 days\n",
       "dtype: timedelta64[ns]"
      ]
     },
     "execution_count": 242,
     "metadata": {},
     "output_type": "execute_result"
    }
   ],
   "source": [
    "# Defining a series with timedelta\n",
    "\n",
    "s = pd.to_datetime(pd.Series(['1990-05-31',\\\n",
    "                              '1995-06-05',\\\n",
    "                              '2020-09-09']))\\\n",
    "- pd.to_datetime('2020-01-01')\n",
    "\n",
    "s"
   ]
  },
  {
   "cell_type": "code",
   "execution_count": 243,
   "id": "d9fae1dd",
   "metadata": {},
   "outputs": [
    {
     "data": {
      "text/plain": [
       "0   -933724800.0\n",
       "1   -775526400.0\n",
       "2     21772800.0\n",
       "dtype: float64"
      ]
     },
     "execution_count": 243,
     "metadata": {},
     "output_type": "execute_result"
    }
   ],
   "source": [
    "# Displaying the number of seconds \n",
    "\n",
    "s.dt.total_seconds()"
   ]
  },
  {
   "cell_type": "code",
   "execution_count": 244,
   "id": "6a89e51a",
   "metadata": {},
   "outputs": [
    {
     "data": {
      "text/plain": [
       "array([datetime.timedelta(days=-10807), datetime.timedelta(days=-8976),\n",
       "       datetime.timedelta(days=252)], dtype=object)"
      ]
     },
     "execution_count": 244,
     "metadata": {},
     "output_type": "execute_result"
    }
   ],
   "source": [
    "# Displaying the series as datetime.timdelta array \n",
    "\n",
    "s.dt.to_pytimedelta()"
   ]
  },
  {
   "cell_type": "code",
   "execution_count": 245,
   "id": "628aa6cc",
   "metadata": {},
   "outputs": [
    {
     "data": {
      "text/html": [
       "<div>\n",
       "<style scoped>\n",
       "    .dataframe tbody tr th:only-of-type {\n",
       "        vertical-align: middle;\n",
       "    }\n",
       "\n",
       "    .dataframe tbody tr th {\n",
       "        vertical-align: top;\n",
       "    }\n",
       "\n",
       "    .dataframe thead th {\n",
       "        text-align: right;\n",
       "    }\n",
       "</style>\n",
       "<table border=\"1\" class=\"dataframe\">\n",
       "  <thead>\n",
       "    <tr style=\"text-align: right;\">\n",
       "      <th></th>\n",
       "      <th>days</th>\n",
       "      <th>hours</th>\n",
       "      <th>minutes</th>\n",
       "      <th>seconds</th>\n",
       "      <th>milliseconds</th>\n",
       "      <th>microseconds</th>\n",
       "      <th>nanoseconds</th>\n",
       "    </tr>\n",
       "  </thead>\n",
       "  <tbody>\n",
       "    <tr>\n",
       "      <th>0</th>\n",
       "      <td>-10807</td>\n",
       "      <td>0</td>\n",
       "      <td>0</td>\n",
       "      <td>0</td>\n",
       "      <td>0</td>\n",
       "      <td>0</td>\n",
       "      <td>0</td>\n",
       "    </tr>\n",
       "    <tr>\n",
       "      <th>1</th>\n",
       "      <td>-8976</td>\n",
       "      <td>0</td>\n",
       "      <td>0</td>\n",
       "      <td>0</td>\n",
       "      <td>0</td>\n",
       "      <td>0</td>\n",
       "      <td>0</td>\n",
       "    </tr>\n",
       "    <tr>\n",
       "      <th>2</th>\n",
       "      <td>252</td>\n",
       "      <td>0</td>\n",
       "      <td>0</td>\n",
       "      <td>0</td>\n",
       "      <td>0</td>\n",
       "      <td>0</td>\n",
       "      <td>0</td>\n",
       "    </tr>\n",
       "  </tbody>\n",
       "</table>\n",
       "</div>"
      ],
      "text/plain": [
       "    days  hours  minutes  seconds  milliseconds  microseconds  nanoseconds\n",
       "0 -10807      0        0        0             0             0            0\n",
       "1  -8976      0        0        0             0             0            0\n",
       "2    252      0        0        0             0             0            0"
      ]
     },
     "execution_count": 245,
     "metadata": {},
     "output_type": "execute_result"
    }
   ],
   "source": [
    "# Displaying each time component\n",
    "s.dt.components"
   ]
  },
  {
   "cell_type": "markdown",
   "id": "89d33caa",
   "metadata": {},
   "source": [
    "### Exercise 4.03 - working with text data using string methods "
   ]
  },
  {
   "cell_type": "code",
   "execution_count": 246,
   "id": "c4b3a2eb",
   "metadata": {},
   "outputs": [],
   "source": [
    "# 2. Importing pandas using the following command\n",
    "import pandas as pd"
   ]
  },
  {
   "cell_type": "code",
   "execution_count": 250,
   "id": "d134c50e",
   "metadata": {},
   "outputs": [
    {
     "data": {
      "text/plain": [
       "0    Data Analysis using python with pandas is great\n",
       "1      pandas DataFrame and pandas series are useful\n",
       "2                                     PYTHON3 PANDAS\n",
       "dtype: object"
      ]
     },
     "execution_count": 250,
     "metadata": {},
     "output_type": "execute_result"
    }
   ],
   "source": [
    "# 3. Creating a series with text data\n",
    "\n",
    "s = pd.Series\\\n",
    "(['Data Analysis using python with pandas is great',\n",
    " 'pandas DataFrame and pandas series are useful', \n",
    " 'PYTHON3 PANDAS'])\n",
    "\n",
    "s"
   ]
  },
  {
   "cell_type": "code",
   "execution_count": 251,
   "id": "881c38ee",
   "metadata": {},
   "outputs": [
    {
     "data": {
      "text/plain": [
       "0    1\n",
       "1    2\n",
       "2    0\n",
       "dtype: int64"
      ]
     },
     "execution_count": 251,
     "metadata": {},
     "output_type": "execute_result"
    }
   ],
   "source": [
    "# 4. Counting the number of times that pandas appears in the series\n",
    "s.str.count('pandas')"
   ]
  },
  {
   "cell_type": "code",
   "execution_count": 252,
   "id": "256b16f6",
   "metadata": {},
   "outputs": [
    {
     "data": {
      "text/plain": [
       "0    47\n",
       "1    45\n",
       "2    14\n",
       "dtype: int64"
      ]
     },
     "execution_count": 252,
     "metadata": {},
     "output_type": "execute_result"
    }
   ],
   "source": [
    "# 5. Counting the number of characters in each string\n",
    "s.str.len()"
   ]
  },
  {
   "cell_type": "code",
   "execution_count": 253,
   "id": "42931c34",
   "metadata": {},
   "outputs": [
    {
     "data": {
      "text/plain": [
       "0    47\n",
       "1    45\n",
       "2    14\n",
       "dtype: int64"
      ]
     },
     "execution_count": 253,
     "metadata": {},
     "output_type": "execute_result"
    }
   ],
   "source": [
    "# 6. Removing white spaces \n",
    "s.str.strip().str.len()"
   ]
  },
  {
   "cell_type": "code",
   "execution_count": 255,
   "id": "52757dfb",
   "metadata": {},
   "outputs": [
    {
     "data": {
      "text/plain": [
       "0    False\n",
       "1     True\n",
       "2    False\n",
       "dtype: bool"
      ]
     },
     "execution_count": 255,
     "metadata": {},
     "output_type": "execute_result"
    }
   ],
   "source": [
    "# 7. Checking if each string starts with letter p\n",
    "\n",
    "s.str.startswith('p')"
   ]
  },
  {
   "cell_type": "code",
   "execution_count": 259,
   "id": "56f93c0d",
   "metadata": {},
   "outputs": [
    {
     "data": {
      "text/plain": [
       "0    True\n",
       "1    True\n",
       "2    True\n",
       "dtype: bool"
      ]
     },
     "execution_count": 259,
     "metadata": {},
     "output_type": "execute_result"
    }
   ],
   "source": [
    "# 8. Using a combination of functions to force all the strings to start with letter p\n",
    "\n",
    "s.str.strip().str.replace('Data', 'pandas').str.lower().str.startswith('p')\n"
   ]
  },
  {
   "cell_type": "code",
   "execution_count": 260,
   "id": "9ca86fed",
   "metadata": {},
   "outputs": [
    {
     "data": {
      "text/html": [
       "<div>\n",
       "<style scoped>\n",
       "    .dataframe tbody tr th:only-of-type {\n",
       "        vertical-align: middle;\n",
       "    }\n",
       "\n",
       "    .dataframe tbody tr th {\n",
       "        vertical-align: top;\n",
       "    }\n",
       "\n",
       "    .dataframe thead th {\n",
       "        text-align: right;\n",
       "    }\n",
       "</style>\n",
       "<table border=\"1\" class=\"dataframe\">\n",
       "  <thead>\n",
       "    <tr style=\"text-align: right;\">\n",
       "      <th></th>\n",
       "      <th>Analysis</th>\n",
       "      <th>Data</th>\n",
       "      <th>DataFrame</th>\n",
       "      <th>PANDAS</th>\n",
       "      <th>PYTHON3</th>\n",
       "      <th>and</th>\n",
       "      <th>are</th>\n",
       "      <th>great</th>\n",
       "      <th>is</th>\n",
       "      <th>pandas</th>\n",
       "      <th>python</th>\n",
       "      <th>series</th>\n",
       "      <th>useful</th>\n",
       "      <th>using</th>\n",
       "      <th>with</th>\n",
       "    </tr>\n",
       "  </thead>\n",
       "  <tbody>\n",
       "    <tr>\n",
       "      <th>0</th>\n",
       "      <td>1</td>\n",
       "      <td>1</td>\n",
       "      <td>0</td>\n",
       "      <td>0</td>\n",
       "      <td>0</td>\n",
       "      <td>0</td>\n",
       "      <td>0</td>\n",
       "      <td>1</td>\n",
       "      <td>1</td>\n",
       "      <td>1</td>\n",
       "      <td>1</td>\n",
       "      <td>0</td>\n",
       "      <td>0</td>\n",
       "      <td>1</td>\n",
       "      <td>1</td>\n",
       "    </tr>\n",
       "    <tr>\n",
       "      <th>1</th>\n",
       "      <td>0</td>\n",
       "      <td>0</td>\n",
       "      <td>1</td>\n",
       "      <td>0</td>\n",
       "      <td>0</td>\n",
       "      <td>1</td>\n",
       "      <td>1</td>\n",
       "      <td>0</td>\n",
       "      <td>0</td>\n",
       "      <td>1</td>\n",
       "      <td>0</td>\n",
       "      <td>1</td>\n",
       "      <td>1</td>\n",
       "      <td>0</td>\n",
       "      <td>0</td>\n",
       "    </tr>\n",
       "    <tr>\n",
       "      <th>2</th>\n",
       "      <td>0</td>\n",
       "      <td>0</td>\n",
       "      <td>0</td>\n",
       "      <td>1</td>\n",
       "      <td>1</td>\n",
       "      <td>0</td>\n",
       "      <td>0</td>\n",
       "      <td>0</td>\n",
       "      <td>0</td>\n",
       "      <td>0</td>\n",
       "      <td>0</td>\n",
       "      <td>0</td>\n",
       "      <td>0</td>\n",
       "      <td>0</td>\n",
       "      <td>0</td>\n",
       "    </tr>\n",
       "  </tbody>\n",
       "</table>\n",
       "</div>"
      ],
      "text/plain": [
       "   Analysis  Data  DataFrame  PANDAS  PYTHON3  and  are  great  is  pandas  \\\n",
       "0         1     1          0       0        0    0    0      1   1       1   \n",
       "1         0     0          1       0        0    1    1      0   0       1   \n",
       "2         0     0          0       1        1    0    0      0   0       0   \n",
       "\n",
       "   python  series  useful  using  with  \n",
       "0       1       0       0      1     1  \n",
       "1       0       1       1      0     0  \n",
       "2       0       0       0      0     0  "
      ]
     },
     "execution_count": 260,
     "metadata": {},
     "output_type": "execute_result"
    }
   ],
   "source": [
    "# 9. Using the get_dummies() fucntion to create a DataFrame of dummy variables\n",
    "\n",
    "s.str.get_dummies(' ')"
   ]
  },
  {
   "cell_type": "code",
   "execution_count": 266,
   "id": "0e448c38",
   "metadata": {},
   "outputs": [
    {
     "data": {
      "text/html": [
       "<div>\n",
       "<style scoped>\n",
       "    .dataframe tbody tr th:only-of-type {\n",
       "        vertical-align: middle;\n",
       "    }\n",
       "\n",
       "    .dataframe tbody tr th {\n",
       "        vertical-align: top;\n",
       "    }\n",
       "\n",
       "    .dataframe thead th {\n",
       "        text-align: right;\n",
       "    }\n",
       "</style>\n",
       "<table border=\"1\" class=\"dataframe\">\n",
       "  <thead>\n",
       "    <tr style=\"text-align: right;\">\n",
       "      <th></th>\n",
       "      <th>python</th>\n",
       "      <th>pandas</th>\n",
       "    </tr>\n",
       "  </thead>\n",
       "  <tbody>\n",
       "    <tr>\n",
       "      <th>0</th>\n",
       "      <td>1</td>\n",
       "      <td>1</td>\n",
       "    </tr>\n",
       "    <tr>\n",
       "      <th>1</th>\n",
       "      <td>0</td>\n",
       "      <td>1</td>\n",
       "    </tr>\n",
       "    <tr>\n",
       "      <th>2</th>\n",
       "      <td>0</td>\n",
       "      <td>1</td>\n",
       "    </tr>\n",
       "  </tbody>\n",
       "</table>\n",
       "</div>"
      ],
      "text/plain": [
       "   python  pandas\n",
       "0       1       1\n",
       "1       0       1\n",
       "2       0       1"
      ]
     },
     "execution_count": 266,
     "metadata": {},
     "output_type": "execute_result"
    }
   ],
   "source": [
    "# 10. Using a combination of functions to create a DataFrame of dummy variables that contains only pandas and python\n",
    "\n",
    "s = s.str.strip().str.lower()\n",
    "s.str.get_dummies(' ')[['python','pandas']]"
   ]
  },
  {
   "cell_type": "markdown",
   "id": "1d0871f4",
   "metadata": {},
   "source": [
    "#### Selecting data in a DataFrame by its dtype"
   ]
  },
  {
   "cell_type": "code",
   "execution_count": 272,
   "id": "4a2dbf31",
   "metadata": {},
   "outputs": [
    {
     "data": {
      "text/html": [
       "<div>\n",
       "<style scoped>\n",
       "    .dataframe tbody tr th:only-of-type {\n",
       "        vertical-align: middle;\n",
       "    }\n",
       "\n",
       "    .dataframe tbody tr th {\n",
       "        vertical-align: top;\n",
       "    }\n",
       "\n",
       "    .dataframe thead th {\n",
       "        text-align: right;\n",
       "    }\n",
       "</style>\n",
       "<table border=\"1\" class=\"dataframe\">\n",
       "  <thead>\n",
       "    <tr style=\"text-align: right;\">\n",
       "      <th></th>\n",
       "      <th>Customer ID</th>\n",
       "      <th>Customer Name</th>\n",
       "      <th>2018 Revenue</th>\n",
       "      <th>2019 Revenue</th>\n",
       "      <th>Growth</th>\n",
       "      <th>Start year</th>\n",
       "      <th>Start Month</th>\n",
       "      <th>Start Day</th>\n",
       "      <th>New Customer</th>\n",
       "    </tr>\n",
       "  </thead>\n",
       "  <tbody>\n",
       "    <tr>\n",
       "      <th>0</th>\n",
       "      <td>1001.0</td>\n",
       "      <td>Pandas Banking</td>\n",
       "      <td>235000</td>\n",
       "      <td>24800</td>\n",
       "      <td>5.5</td>\n",
       "      <td>2013</td>\n",
       "      <td>3</td>\n",
       "      <td>10</td>\n",
       "      <td>0</td>\n",
       "    </tr>\n",
       "    <tr>\n",
       "      <th>1</th>\n",
       "      <td>1002.0</td>\n",
       "      <td>Pandas Grocery</td>\n",
       "      <td>196000</td>\n",
       "      <td>205000</td>\n",
       "      <td>4.5</td>\n",
       "      <td>2016</td>\n",
       "      <td>4</td>\n",
       "      <td>30</td>\n",
       "      <td>0</td>\n",
       "    </tr>\n",
       "    <tr>\n",
       "      <th>2</th>\n",
       "      <td>1003.0</td>\n",
       "      <td>Pandas Telecom</td>\n",
       "      <td>167000</td>\n",
       "      <td>19300</td>\n",
       "      <td>15.5</td>\n",
       "      <td>2010</td>\n",
       "      <td>11</td>\n",
       "      <td>24</td>\n",
       "      <td>0</td>\n",
       "    </tr>\n",
       "    <tr>\n",
       "      <th>3</th>\n",
       "      <td>1004.0</td>\n",
       "      <td>Pandas Transport</td>\n",
       "      <td>79000</td>\n",
       "      <td>90000</td>\n",
       "      <td>13.9</td>\n",
       "      <td>2018</td>\n",
       "      <td>1</td>\n",
       "      <td>15</td>\n",
       "      <td>1</td>\n",
       "    </tr>\n",
       "    <tr>\n",
       "      <th>4</th>\n",
       "      <td>1005.0</td>\n",
       "      <td>Pandas Insurance</td>\n",
       "      <td>241000</td>\n",
       "      <td>26400</td>\n",
       "      <td>9.5</td>\n",
       "      <td>2009</td>\n",
       "      <td>6</td>\n",
       "      <td>1</td>\n",
       "      <td>0</td>\n",
       "    </tr>\n",
       "  </tbody>\n",
       "</table>\n",
       "</div>"
      ],
      "text/plain": [
       "   Customer ID     Customer Name 2018 Revenue 2019 Revenue Growth  Start year  \\\n",
       "0       1001.0    Pandas Banking       235000        24800    5.5        2013   \n",
       "1       1002.0    Pandas Grocery       196000       205000    4.5        2016   \n",
       "2       1003.0    Pandas Telecom       167000        19300   15.5        2010   \n",
       "3       1004.0  Pandas Transport        79000        90000   13.9        2018   \n",
       "4       1005.0  Pandas Insurance       241000        26400    9.5        2009   \n",
       "\n",
       "   Start Month  Start Day  New Customer  \n",
       "0            3         10             0  \n",
       "1            4         30             0  \n",
       "2           11         24             0  \n",
       "3            1         15             1  \n",
       "4            6          1             0  "
      ]
     },
     "execution_count": 272,
     "metadata": {},
     "output_type": "execute_result"
    }
   ],
   "source": [
    "import pandas as pd\n",
    "import numpy as np\n",
    "\n",
    "column_names = ['Customer ID', 'Customer Name',\\\n",
    "                '2018 Revenue', '2019 Revenue',\\\n",
    "                'Growth', 'Start year', 'Start Month',\\\n",
    "                'Start Day', 'New Customer']\n",
    "\n",
    "row1 = list([1001.0, 'Pandas Banking', '235000',\\\n",
    "            '24800', '5.5', 2013, 3, 10, 0])\n",
    "\n",
    "row2 = list([1002.0, 'Pandas Grocery', '196000', '205000',\\\n",
    "            '4.5', 2016, 4, 30, 0])\n",
    "\n",
    "row3 = list([1003.0, 'Pandas Telecom', '167000',\\\n",
    "            '19300', '15.5', 2010, 11, 24, 0])\n",
    "\n",
    "row4 = list([1004.0, 'Pandas Transport', '79000',\\\n",
    "            '90000', '13.9', 2018, 1, 15, 1])\n",
    "\n",
    "row5 = list([1005.0, 'Pandas Insurance', '241000',\\\n",
    "            '26400', '9.5', 2009, 6, 1, 0])\n",
    "\n",
    "data_frame = pd.DataFrame(data=[row1, row2, row3, row4, row5],\\\n",
    "                         columns=column_names)\n",
    "\n",
    "data_frame"
   ]
  },
  {
   "cell_type": "code",
   "execution_count": 274,
   "id": "325f8bb6",
   "metadata": {},
   "outputs": [
    {
     "data": {
      "text/plain": [
       "Customer ID      float64\n",
       "Customer Name     object\n",
       "2018 Revenue      object\n",
       "2019 Revenue      object\n",
       "Growth            object\n",
       "Start year         int64\n",
       "Start Month        int64\n",
       "Start Day          int64\n",
       "New Customer       int64\n",
       "dtype: object"
      ]
     },
     "execution_count": 274,
     "metadata": {},
     "output_type": "execute_result"
    }
   ],
   "source": [
    "data_frame.dtypes"
   ]
  },
  {
   "cell_type": "code",
   "execution_count": 275,
   "id": "94d155a3",
   "metadata": {},
   "outputs": [
    {
     "data": {
      "text/html": [
       "<div>\n",
       "<style scoped>\n",
       "    .dataframe tbody tr th:only-of-type {\n",
       "        vertical-align: middle;\n",
       "    }\n",
       "\n",
       "    .dataframe tbody tr th {\n",
       "        vertical-align: top;\n",
       "    }\n",
       "\n",
       "    .dataframe thead th {\n",
       "        text-align: right;\n",
       "    }\n",
       "</style>\n",
       "<table border=\"1\" class=\"dataframe\">\n",
       "  <thead>\n",
       "    <tr style=\"text-align: right;\">\n",
       "      <th></th>\n",
       "      <th>Customer Name</th>\n",
       "      <th>2018 Revenue</th>\n",
       "      <th>2019 Revenue</th>\n",
       "      <th>Growth</th>\n",
       "    </tr>\n",
       "  </thead>\n",
       "  <tbody>\n",
       "    <tr>\n",
       "      <th>0</th>\n",
       "      <td>Pandas Banking</td>\n",
       "      <td>235000</td>\n",
       "      <td>24800</td>\n",
       "      <td>5.5</td>\n",
       "    </tr>\n",
       "    <tr>\n",
       "      <th>1</th>\n",
       "      <td>Pandas Grocery</td>\n",
       "      <td>196000</td>\n",
       "      <td>205000</td>\n",
       "      <td>4.5</td>\n",
       "    </tr>\n",
       "    <tr>\n",
       "      <th>2</th>\n",
       "      <td>Pandas Telecom</td>\n",
       "      <td>167000</td>\n",
       "      <td>19300</td>\n",
       "      <td>15.5</td>\n",
       "    </tr>\n",
       "    <tr>\n",
       "      <th>3</th>\n",
       "      <td>Pandas Transport</td>\n",
       "      <td>79000</td>\n",
       "      <td>90000</td>\n",
       "      <td>13.9</td>\n",
       "    </tr>\n",
       "    <tr>\n",
       "      <th>4</th>\n",
       "      <td>Pandas Insurance</td>\n",
       "      <td>241000</td>\n",
       "      <td>26400</td>\n",
       "      <td>9.5</td>\n",
       "    </tr>\n",
       "  </tbody>\n",
       "</table>\n",
       "</div>"
      ],
      "text/plain": [
       "      Customer Name 2018 Revenue 2019 Revenue Growth\n",
       "0    Pandas Banking       235000        24800    5.5\n",
       "1    Pandas Grocery       196000       205000    4.5\n",
       "2    Pandas Telecom       167000        19300   15.5\n",
       "3  Pandas Transport        79000        90000   13.9\n",
       "4  Pandas Insurance       241000        26400    9.5"
      ]
     },
     "execution_count": 275,
     "metadata": {},
     "output_type": "execute_result"
    }
   ],
   "source": [
    "# selecting only dtype columns \n",
    "data_frame.select_dtypes('object')"
   ]
  },
  {
   "cell_type": "code",
   "execution_count": 280,
   "id": "f04e21b7",
   "metadata": {},
   "outputs": [
    {
     "data": {
      "text/html": [
       "<div>\n",
       "<style scoped>\n",
       "    .dataframe tbody tr th:only-of-type {\n",
       "        vertical-align: middle;\n",
       "    }\n",
       "\n",
       "    .dataframe tbody tr th {\n",
       "        vertical-align: top;\n",
       "    }\n",
       "\n",
       "    .dataframe thead th {\n",
       "        text-align: right;\n",
       "    }\n",
       "</style>\n",
       "<table border=\"1\" class=\"dataframe\">\n",
       "  <thead>\n",
       "    <tr style=\"text-align: right;\">\n",
       "      <th></th>\n",
       "      <th>Customer ID</th>\n",
       "      <th>Start year</th>\n",
       "      <th>Start Month</th>\n",
       "      <th>Start Day</th>\n",
       "      <th>New Customer</th>\n",
       "    </tr>\n",
       "  </thead>\n",
       "  <tbody>\n",
       "    <tr>\n",
       "      <th>0</th>\n",
       "      <td>1001.0</td>\n",
       "      <td>2013</td>\n",
       "      <td>3</td>\n",
       "      <td>10</td>\n",
       "      <td>0</td>\n",
       "    </tr>\n",
       "    <tr>\n",
       "      <th>1</th>\n",
       "      <td>1002.0</td>\n",
       "      <td>2016</td>\n",
       "      <td>4</td>\n",
       "      <td>30</td>\n",
       "      <td>0</td>\n",
       "    </tr>\n",
       "    <tr>\n",
       "      <th>2</th>\n",
       "      <td>1003.0</td>\n",
       "      <td>2010</td>\n",
       "      <td>11</td>\n",
       "      <td>24</td>\n",
       "      <td>0</td>\n",
       "    </tr>\n",
       "    <tr>\n",
       "      <th>3</th>\n",
       "      <td>1004.0</td>\n",
       "      <td>2018</td>\n",
       "      <td>1</td>\n",
       "      <td>15</td>\n",
       "      <td>1</td>\n",
       "    </tr>\n",
       "    <tr>\n",
       "      <th>4</th>\n",
       "      <td>1005.0</td>\n",
       "      <td>2009</td>\n",
       "      <td>6</td>\n",
       "      <td>1</td>\n",
       "      <td>0</td>\n",
       "    </tr>\n",
       "  </tbody>\n",
       "</table>\n",
       "</div>"
      ],
      "text/plain": [
       "   Customer ID  Start year  Start Month  Start Day  New Customer\n",
       "0       1001.0        2013            3         10             0\n",
       "1       1002.0        2016            4         30             0\n",
       "2       1003.0        2010           11         24             0\n",
       "3       1004.0        2018            1         15             1\n",
       "4       1005.0        2009            6          1             0"
      ]
     },
     "execution_count": 280,
     "metadata": {},
     "output_type": "execute_result"
    }
   ],
   "source": [
    "# Selecting only numeric columns\n",
    "data_frame.select_dtypes('number')"
   ]
  },
  {
   "cell_type": "code",
   "execution_count": 282,
   "id": "af1144b3",
   "metadata": {},
   "outputs": [
    {
     "data": {
      "text/html": [
       "<div>\n",
       "<style scoped>\n",
       "    .dataframe tbody tr th:only-of-type {\n",
       "        vertical-align: middle;\n",
       "    }\n",
       "\n",
       "    .dataframe tbody tr th {\n",
       "        vertical-align: top;\n",
       "    }\n",
       "\n",
       "    .dataframe thead th {\n",
       "        text-align: right;\n",
       "    }\n",
       "</style>\n",
       "<table border=\"1\" class=\"dataframe\">\n",
       "  <thead>\n",
       "    <tr style=\"text-align: right;\">\n",
       "      <th></th>\n",
       "      <th>Customer ID</th>\n",
       "    </tr>\n",
       "  </thead>\n",
       "  <tbody>\n",
       "    <tr>\n",
       "      <th>0</th>\n",
       "      <td>1001.0</td>\n",
       "    </tr>\n",
       "    <tr>\n",
       "      <th>1</th>\n",
       "      <td>1002.0</td>\n",
       "    </tr>\n",
       "    <tr>\n",
       "      <th>2</th>\n",
       "      <td>1003.0</td>\n",
       "    </tr>\n",
       "    <tr>\n",
       "      <th>3</th>\n",
       "      <td>1004.0</td>\n",
       "    </tr>\n",
       "    <tr>\n",
       "      <th>4</th>\n",
       "      <td>1005.0</td>\n",
       "    </tr>\n",
       "  </tbody>\n",
       "</table>\n",
       "</div>"
      ],
      "text/plain": [
       "   Customer ID\n",
       "0       1001.0\n",
       "1       1002.0\n",
       "2       1003.0\n",
       "3       1004.0\n",
       "4       1005.0"
      ]
     },
     "execution_count": 282,
     "metadata": {},
     "output_type": "execute_result"
    }
   ],
   "source": [
    "# Selecting numeric columns and excluding int64\n",
    "\n",
    "data_frame.select_dtypes('number', exclude='int64')"
   ]
  },
  {
   "cell_type": "code",
   "execution_count": null,
   "id": "672bf035",
   "metadata": {},
   "outputs": [],
   "source": []
  }
 ],
 "metadata": {
  "kernelspec": {
   "display_name": "Python 3 (ipykernel)",
   "language": "python",
   "name": "python3"
  },
  "language_info": {
   "codemirror_mode": {
    "name": "ipython",
    "version": 3
   },
   "file_extension": ".py",
   "mimetype": "text/x-python",
   "name": "python",
   "nbconvert_exporter": "python",
   "pygments_lexer": "ipython3",
   "version": "3.9.7"
  }
 },
 "nbformat": 4,
 "nbformat_minor": 5
}
